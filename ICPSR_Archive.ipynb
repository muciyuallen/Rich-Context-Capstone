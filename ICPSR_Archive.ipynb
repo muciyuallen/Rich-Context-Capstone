{
 "cells": [
  {
   "cell_type": "markdown",
   "metadata": {},
   "source": [
    "# ICPSR Dataset Archive"
   ]
  },
  {
   "cell_type": "code",
   "execution_count": 22,
   "metadata": {},
   "outputs": [],
   "source": [
    "from IPython.display import display\n",
    "from ipywidgets import interact, interactive, fixed, interact_manual, HBox, VBox, Label\n",
    "import ipywidgets as widgets\n",
    "import pandas as pd\n",
    "import qgrid\n",
    "pd.set_option('display.max_colwidth', -1)\n",
    "\n",
    "datasets = pd.read_json('data/data_sets.json')"
   ]
  },
  {
   "cell_type": "code",
   "execution_count": 23,
   "metadata": {
    "jupyter": {
     "source_hidden": true
    }
   },
   "outputs": [
    {
     "data": {
      "application/vnd.jupyter.widget-view+json": {
       "model_id": "2915939890a84fc29ed283e6a34dbef0",
       "version_major": 2,
       "version_minor": 0
      },
      "text/plain": [
       "interactive(children=(Dropdown(description='By', options=('Dataset Title', 'Dataset ID'), value='Dataset Title…"
      ]
     },
     "metadata": {},
     "output_type": "display_data"
    }
   ],
   "source": [
    "@interact\n",
    "\n",
    "def showDatasets(By = ['Dataset Title', 'Dataset ID'], Search=\"ANES 1952\"):\n",
    "    column = {\n",
    "        'Dataset Title': 'title',\n",
    "        'Dataset ID': 'data_set_id'\n",
    "    }\n",
    "    slist = Search.split(',')\n",
    "#     return slist\n",
    "    try:\n",
    "        if(By == 'Dataset Title'):\n",
    "            return datasets[['data_set_id', 'unique_identifier','title', 'description']].loc[datasets[column[By]].str.contains('|'.join(slist))]\n",
    "        else:\n",
    "            tmp = datasets[['data_set_id', 'unique_identifier','title', 'description']].loc[datasets[column[By]].isin([int(n) for n in slist])]\n",
    "            \n",
    "            sorter = pd.DataFrame([int(n) for n in slist], columns=['data_set_id'])\n",
    "            tmp = pd.merge(sorter, tmp, how='left', on='data_set_id')\n",
    "            return tmp\n",
    "    except Exception as e:\n",
    "        pass\n",
    "    "
   ]
  },
  {
   "cell_type": "code",
   "execution_count": 24,
   "metadata": {
    "jupyter": {
     "source_hidden": true
    }
   },
   "outputs": [],
   "source": [
    "import networkx as nx\n",
    "import random\n",
    "from networkx.readwrite import json_graph\n",
    "import json\n",
    "\n",
    "def read_json_file(filename):\n",
    "    with open(filename, 'r') as f:\n",
    "        js_graph = json.load(f)\n",
    "    return json_graph.node_link_graph(js_graph)\n",
    "def generatePairs(firstnode, allDatasets):\n",
    "    return [(firstnode, i) for i in allDatasets]\n",
    "def getJaccard(node, g):\n",
    "    allDatasets = [i for i in g.nodes if(str(i).startswith('data'))]\n",
    "    titleID = df_datasets.title_id[df_datasets.data_set_id == int(node.replace('data_', ''))]\n",
    "    filterSim = list(df_datasets.data_set_id[df_datasets.title_id == titleID.iloc[0]])\n",
    "    filterSim = ['data_'+str(i) for i in filterSim]\n",
    "    \n",
    "    filtered = [i for i in allDatasets if i not in filterSim]\n",
    "    \n",
    "    pairs = generatePairs(node, filtered)\n",
    "    preds_jaccard = nx.jaccard_coefficient(g, pairs)\n",
    "    res = []\n",
    "    for u, v, p in preds_jaccard:\n",
    "        if p > 0.0:\n",
    "            res.append((u,v,p))\n",
    "    return res\n",
    "\n",
    "G = read_json_file('data/network_json.json')\n",
    "\n",
    "titles = datasets.title.str.lower()\n",
    "titles = titles.str.replace('[^a-zA-Z]', '')\n",
    "\n",
    "df_titles = pd.DataFrame(set(titles)).reset_index()\n",
    "df_titles.columns = ['title_id','title_unique']\n",
    "df_titles.title_id = ['title_'+str(i) for i in df_titles.index]\n",
    "\n",
    "df_datasets = datasets.copy()\n",
    "df_datasets['title_unique'] = df_datasets['title'].str.lower()\n",
    "df_datasets.title_unique = df_datasets.title_unique.str.replace('[^a-zA-Z]', '')\n",
    "df_datasets = pd.merge(df_datasets, df_titles, on='title_unique', how='left')"
   ]
  },
  {
   "cell_type": "code",
   "execution_count": 25,
   "metadata": {
    "jupyter": {
     "source_hidden": true
    }
   },
   "outputs": [
    {
     "data": {
      "application/vnd.jupyter.widget-view+json": {
       "model_id": "7c070fee23244e6585c45782bd3564d3",
       "version_major": 2,
       "version_minor": 0
      },
      "text/plain": [
       "Label(value='Press to generate random set of recommendations')"
      ]
     },
     "metadata": {},
     "output_type": "display_data"
    },
    {
     "data": {
      "application/vnd.jupyter.widget-view+json": {
       "model_id": "4badac3aaaf149d784310914a739db88",
       "version_major": 2,
       "version_minor": 0
      },
      "text/plain": [
       "Button(description='Generate', style=ButtonStyle())"
      ]
     },
     "metadata": {},
     "output_type": "display_data"
    },
    {
     "data": {
      "application/vnd.jupyter.widget-view+json": {
       "model_id": "1b3d6b1552d944b89eaa4048fba6d99f",
       "version_major": 2,
       "version_minor": 0
      },
      "text/plain": [
       "Output()"
      ]
     },
     "metadata": {},
     "output_type": "display_data"
    }
   ],
   "source": [
    "btn = widgets.Button(description = \"Generate\")\n",
    "display(Label('Press to generate random set of recommendations'), btn)\n",
    "output = widgets.Output()\n",
    "\n",
    "allDatasets = [i for i in G.nodes if(str(i).startswith('data'))]\n",
    "N = 100\n",
    "\n",
    "@output.capture()\n",
    "def button_handler(btn):\n",
    "    sampleDataset = random.sample(allDatasets, 1)\n",
    "    for i in sampleDataset:\n",
    "        tmp = getJaccard(i, G)\n",
    "        print(\"Fetching dataset ID: %s \\nCalculating similarity scores for %s/%s datasets\"%(i, len(tmp),len(allDatasets)))\n",
    "        if len(tmp)>0:\n",
    "            res = getJaccard(i, G)\n",
    "            df = pd.DataFrame(res, columns=['x', 'data_set_id', 'score']).sort_values(by=['score'], ascending=False).reset_index()\n",
    "            df.data_set_id = [int(i.replace('data_', '')) for i in df.data_set_id]\n",
    "            \n",
    "            ids = df.data_set_id[:N]\n",
    "            ids = df_datasets[df_datasets.data_set_id.isin(ids)]\n",
    "            ids = ids.groupby('title_id').first().reset_index()\n",
    "            \n",
    "            res = pd.merge(ids, df, how='inner', on='data_set_id').sort_values(by=['score'], ascending=False).reset_index()\n",
    "            display(res[['data_set_id', 'score']].iloc[:10])\n",
    "\n",
    "            display(\",\".join(str(i) for i in res.data_set_id[:10]))\n",
    "\n",
    "btn.on_click(button_handler)\n",
    "display(output)\n",
    "output.clear_output()"
   ]
  },
  {
   "cell_type": "code",
   "execution_count": 20,
   "metadata": {
    "collapsed": true,
    "jupyter": {
     "outputs_hidden": true
    }
   },
   "outputs": [
    {
     "data": {
      "text/html": [
       "<div>\n",
       "<style scoped>\n",
       "    .dataframe tbody tr th:only-of-type {\n",
       "        vertical-align: middle;\n",
       "    }\n",
       "\n",
       "    .dataframe tbody tr th {\n",
       "        vertical-align: top;\n",
       "    }\n",
       "\n",
       "    .dataframe thead th {\n",
       "        text-align: right;\n",
       "    }\n",
       "</style>\n",
       "<table border=\"1\" class=\"dataframe\">\n",
       "  <thead>\n",
       "    <tr style=\"text-align: right;\">\n",
       "      <th></th>\n",
       "      <th>additional_keywords</th>\n",
       "      <th>citation</th>\n",
       "      <th>coverages</th>\n",
       "      <th>data_set_id</th>\n",
       "      <th>date</th>\n",
       "      <th>description</th>\n",
       "      <th>family_identifier</th>\n",
       "      <th>identifier_list</th>\n",
       "      <th>mention_list</th>\n",
       "      <th>methodology</th>\n",
       "      <th>name</th>\n",
       "      <th>subjects</th>\n",
       "      <th>title</th>\n",
       "      <th>unique_identifier</th>\n",
       "      <th>title_unique</th>\n",
       "      <th>title_id</th>\n",
       "    </tr>\n",
       "  </thead>\n",
       "  <tbody>\n",
       "    <tr>\n",
       "      <th>0</th>\n",
       "      <td>ICPSR</td>\n",
       "      <td></td>\n",
       "      <td></td>\n",
       "      <td>1</td>\n",
       "      <td>2016-09-20 00:00:00+00:00</td>\n",
       "      <td>This study is part of a time-series collection of national surveys fielded continuously since 1948. The election studies are designed to present data on Americans' social backgrounds, enduring political predispositions, social and political values, perceptions and evaluations of groups and candidates, opinions on questions of public policy, and participation in political life. The 1952 National Election Study gauges political attitudes in general, along with attitudes and behaviors directly relevant to the 1952 presidential election. The interview schedule contained both closed and open-ended questions designed to collect data on a wide range of issues. Most respondents were interviewed both before and after the date of the election. The pre-election survey tapped attitudes toward political parties, candidates, and other specific issues, and inquired about the respondents' personal and political background. The post-election interview focused on the actual vote and voting-related behaviors. Additionally, a sub-sample of 585 respondents was administered a Form B re-interview obtaining further information about organizational affiliations, personal data, and non-political opinions and attitudes. A special emphasis was placed on the perception of group behavior, especially the perceived political preferences of family, friends, and associates.</td>\n",
       "      <td></td>\n",
       "      <td>[{'name': 'ICPSR data ID (dataId)', 'identifier': '10.3886/ICPSR07213'}]</td>\n",
       "      <td>[ANES study, ICPSR, SRC data, Surveys conducted by the Survey Research Center and the Center for Political Studies of the University, eight SRC-CPS presidential election surveys, eight SRC-CPS presidential election surveys con- ducted between 1952 and 1980, eight presidential election surveys conducted by the Survey Research Center and the Center for Political Studies (SRC-CPS), time series]</td>\n",
       "      <td></td>\n",
       "      <td>ANES 1952 Time Series Study</td>\n",
       "      <td>candidates,congressional elections,domestic policy,economic conditions,foreign policy,government performance,information sources,national elections,political affiliation,political attitudes,political campaigns,political efficacy,political issues,political participation,presidential elections,public approval,public opinion,special interest groups,Truman Administration (1945-1953),trust in government,voter expectations,voting behavior,United States,1952-09--1952-12</td>\n",
       "      <td>ANES 1952 Time Series Study</td>\n",
       "      <td>10.3886/ICPSR07213</td>\n",
       "      <td>anestimeseriesstudy</td>\n",
       "      <td>title_1012</td>\n",
       "    </tr>\n",
       "    <tr>\n",
       "      <th>1</th>\n",
       "      <td>ICPSR</td>\n",
       "      <td></td>\n",
       "      <td></td>\n",
       "      <td>2</td>\n",
       "      <td>2016-09-22 00:00:00+00:00</td>\n",
       "      <td>This study is part of a time-series collection of national surveys fielded continuously since 1948. The election studies are designed to collect data on Americans' social backgrounds, enduring political predispositions, social and political values, perceptions and evaluations of groups and candidates, opinions on questions of public policy, and participation in political life. The questionnaires contained both closed and open-ended questions covering a wide range of topics. The study inquired about general political attitudes as well as the attitudes and behaviors pertinent to the 1956 presidential election. Each respondent was interviewed both before and after the election date. In the pre-election survey, respondents were asked about their attitudes toward political parties, candidates, and other specific issues, as well as personal data and some political history. The post-election interview focused on the actual vote and reasons for the vote. It also obtained further personal data and asked non-political attitudinal questions (Form C) of a sub-sample of 579 respondents.</td>\n",
       "      <td></td>\n",
       "      <td>[{'name': 'ICPSR data ID (dataId)', 'identifier': '10.3886/ICPSR07214'}]</td>\n",
       "      <td>[American national election studies, SRC-CPS congressional election surveys conducted be- tween 1958 and 1978, SRC-CPS presidential election studies, SRC-CPS presidential election surveys, SRC-CPS presidential election surveys con- ducted between 1952 and 1980, SRC-CPS surveys, Survey Research Center and the Center for Political Studies (SRC-CPS), Surveys conducted by the Survey Research Center and the Center for Political Studies of the University, surveys conducted by the Survey Research Center and the Center for Political Studies]</td>\n",
       "      <td></td>\n",
       "      <td>ANES 1956 Time Series Study</td>\n",
       "      <td>candidates,congressional elections,domestic policy,economic conditions,Eisenhower Administration (1953-1961),foreign policy,government performance,information sources,national elections,political affiliation,political attitudes,political campaigns,political efficacy,political issues,political participation,public approval,public opinion,special interest groups,trust in government,voter expectations,voting behavior,United States,1956-09--1957-01</td>\n",
       "      <td>ANES 1956 Time Series Study</td>\n",
       "      <td>10.3886/ICPSR07214</td>\n",
       "      <td>anestimeseriesstudy</td>\n",
       "      <td>title_1012</td>\n",
       "    </tr>\n",
       "    <tr>\n",
       "      <th>2</th>\n",
       "      <td>ICPSR</td>\n",
       "      <td></td>\n",
       "      <td></td>\n",
       "      <td>3</td>\n",
       "      <td>2016-09-22 00:00:00+00:00</td>\n",
       "      <td>This study is part of a time-series collection of national surveys fielded continuously since 1948. The election studies are designed to present data on Americans' social backgrounds, enduring political predispositions, social and political values, perceptions and evaluations of groups and candidates, opinions on questions of public policy, and participation in political life. The 1958 study may be analyzed both on its own, as a cross-section survey representative of the U.S. population of voting age, and as the second wave of a panel study that started with the ANES 1956 Time Series Study (ICPSR 7214) and ended with the ANES 1960 Time Series Study (ICPSR 7216). Each respondent was interviewed only once, after the election. Respondents who had not been interviewed in 1956 were selected from dwelling units vacated by 1956 respondents (movers). The questionnaires contained both closed and open-ended questions covering a wide range of topics. In addition to general political attitudes, the study obtained information about the more specific attitudes and behaviors pertinent to the 1958 Congressional Election, like the respondents' actual vote and reasons for the vote, attitudes toward political parties and candidates, and the respondents' political history. Data were also collected on specific domestic and foreign policy issues such as government involvement in housing and public utilities, and United States aid to anti-Communist nations. The study also ascertained the financial situation of the family unit and other demographic information.</td>\n",
       "      <td></td>\n",
       "      <td>[{'name': 'ICPSR data ID (dataId)', 'identifier': '10.3886/ICPSR07215'}]</td>\n",
       "      <td>[]</td>\n",
       "      <td></td>\n",
       "      <td>ANES 1958 Time Series Study</td>\n",
       "      <td>candidates,congressional elections,domestic policy,economic conditions,Eisenhower Administration (1953-1961),foreign policy,government performance,information sources,national elections,political affiliation,political attitudes,political campaigns,political efficacy,political issues,political participation,public approval,public opinion,special interest groups,trust in government,voter expectations,voter history,voting behavior,United States,1958-11--1958-12</td>\n",
       "      <td>ANES 1958 Time Series Study</td>\n",
       "      <td>10.3886/ICPSR07215</td>\n",
       "      <td>anestimeseriesstudy</td>\n",
       "      <td>title_1012</td>\n",
       "    </tr>\n",
       "    <tr>\n",
       "      <th>3</th>\n",
       "      <td>ICPSR</td>\n",
       "      <td></td>\n",
       "      <td></td>\n",
       "      <td>4</td>\n",
       "      <td>2015-11-10 00:00:00+00:00</td>\n",
       "      <td>This study is part of a time-series collection of national surveys fielded continuously since 1952. The election studies are designed to present data on Americans' social backgrounds, enduring political predispositions, social and political values, perceptions and evaluations of groups and candidates, opinions on questions of public policy, and participation in political life.</td>\n",
       "      <td></td>\n",
       "      <td>[{'name': 'ICPSR data ID (dataId)', 'identifier': '10.3886/ICPSR07216'}]</td>\n",
       "      <td>[]</td>\n",
       "      <td></td>\n",
       "      <td>ANES 1960 Time Series Study</td>\n",
       "      <td>candidates,congressional elections,domestic policy,economic conditions,Eisenhower Administration (1953-1961),foreign policy,government performance,information sources,national elections,political affiliation,political attitudes,political campaigns,political efficacy,political issues,political participation,presidential elections,public approval,public opinion,special interest groups,trust in government,voter expectations,voter history,voting behavior,United States,1960-09--1960-12</td>\n",
       "      <td>ANES 1960 Time Series Study</td>\n",
       "      <td>10.3886/ICPSR07216</td>\n",
       "      <td>anestimeseriesstudy</td>\n",
       "      <td>title_1012</td>\n",
       "    </tr>\n",
       "    <tr>\n",
       "      <th>4</th>\n",
       "      <td>ICPSR</td>\n",
       "      <td></td>\n",
       "      <td></td>\n",
       "      <td>5</td>\n",
       "      <td>2016-12-01 00:00:00+00:00</td>\n",
       "      <td>This study is part of a time-series collection of national surveys fielded continuously since 1948. The election studies are designed to present data on Americans' social backgrounds, enduring political predispositions, social and political values, perceptions and evaluations of groups and candidates, opinions on questions of public policy, and participation in political life. The ANES 1962 Time Series Study is a traditional time series study, conducted face-to-face after the congressional election. The data were collected as part of the Survey Research Center Economic Behavior Program's Fall Omnibus Survey, which was designed to measure consumer confidence and optimism but also included questions in other areas such as political behavior and political attitudes. The questionnaire used served both the 1962 ANES and the Fall Omnibus, but the 1962 ANES excluded questions that were specifically gathered for the EBP survey alone. In addition to content on electoral participation, voting behavior, and public opinion, the 1962 ANES includes items on partisanship, government enforcement of school integration, and financial and business conditions.</td>\n",
       "      <td></td>\n",
       "      <td>[{'name': 'ICPSR data ID (dataId)', 'identifier': '10.3886/ICPSR07217'}]</td>\n",
       "      <td>[]</td>\n",
       "      <td></td>\n",
       "      <td>ANES 1962 Time Series Study</td>\n",
       "      <td>candidates,congressional elections,domestic policy,economic conditions,foreign policy,government performance,information sources,Kennedy Administration (1961-1963),national elections,political affiliation,political attitudes,political campaigns,political efficacy,political issues,political participation,presidential elections,public approval,public opinion,special interest groups,trust in government,voter expectations,voter history,voting behavior,United States,1962-11--1962-12</td>\n",
       "      <td>ANES 1962 Time Series Study</td>\n",
       "      <td>10.3886/ICPSR07217</td>\n",
       "      <td>anestimeseriesstudy</td>\n",
       "      <td>title_1012</td>\n",
       "    </tr>\n",
       "  </tbody>\n",
       "</table>\n",
       "</div>"
      ],
      "text/plain": [
       "  additional_keywords citation coverages  data_set_id  \\\n",
       "0  ICPSR                                  1             \n",
       "1  ICPSR                                  2             \n",
       "2  ICPSR                                  3             \n",
       "3  ICPSR                                  4             \n",
       "4  ICPSR                                  5             \n",
       "\n",
       "                        date  \\\n",
       "0  2016-09-20 00:00:00+00:00   \n",
       "1  2016-09-22 00:00:00+00:00   \n",
       "2  2016-09-22 00:00:00+00:00   \n",
       "3  2015-11-10 00:00:00+00:00   \n",
       "4  2016-12-01 00:00:00+00:00   \n",
       "\n",
       "                                                                                                                                                                                                                                                                                                                                                                                                                                                                                                                                                                                                                                                                                                                                                                                                                                                                                                                                                                                                                                                                                                                                                                                                                                                                                                                                                                                                                                                                                                                                                                                                                   description  \\\n",
       "0  This study is part of a time-series collection of national surveys fielded continuously since 1948. The election studies are designed to present data on Americans' social backgrounds, enduring political predispositions, social and political values, perceptions and evaluations of groups and candidates, opinions on questions of public policy, and participation in political life. The 1952 National Election Study gauges political attitudes in general, along with attitudes and behaviors directly relevant to the 1952 presidential election. The interview schedule contained both closed and open-ended questions designed to collect data on a wide range of issues. Most respondents were interviewed both before and after the date of the election. The pre-election survey tapped attitudes toward political parties, candidates, and other specific issues, and inquired about the respondents' personal and political background. The post-election interview focused on the actual vote and voting-related behaviors. Additionally, a sub-sample of 585 respondents was administered a Form B re-interview obtaining further information about organizational affiliations, personal data, and non-political opinions and attitudes. A special emphasis was placed on the perception of group behavior, especially the perceived political preferences of family, friends, and associates.                                                                                                                                                                                                            \n",
       "1  This study is part of a time-series collection of national surveys fielded continuously since 1948. The election studies are designed to collect data on Americans' social backgrounds, enduring political predispositions, social and political values, perceptions and evaluations of groups and candidates, opinions on questions of public policy, and participation in political life. The questionnaires contained both closed and open-ended questions covering a wide range of topics. The study inquired about general political attitudes as well as the attitudes and behaviors pertinent to the 1956 presidential election. Each respondent was interviewed both before and after the election date. In the pre-election survey, respondents were asked about their attitudes toward political parties, candidates, and other specific issues, as well as personal data and some political history. The post-election interview focused on the actual vote and reasons for the vote. It also obtained further personal data and asked non-political attitudinal questions (Form C) of a sub-sample of 579 respondents.                                                                                                                                                                                                                                                                                                                                                                                                                                                                                            \n",
       "2  This study is part of a time-series collection of national surveys fielded continuously since 1948. The election studies are designed to present data on Americans' social backgrounds, enduring political predispositions, social and political values, perceptions and evaluations of groups and candidates, opinions on questions of public policy, and participation in political life. The 1958 study may be analyzed both on its own, as a cross-section survey representative of the U.S. population of voting age, and as the second wave of a panel study that started with the ANES 1956 Time Series Study (ICPSR 7214) and ended with the ANES 1960 Time Series Study (ICPSR 7216). Each respondent was interviewed only once, after the election. Respondents who had not been interviewed in 1956 were selected from dwelling units vacated by 1956 respondents (movers). The questionnaires contained both closed and open-ended questions covering a wide range of topics. In addition to general political attitudes, the study obtained information about the more specific attitudes and behaviors pertinent to the 1958 Congressional Election, like the respondents' actual vote and reasons for the vote, attitudes toward political parties and candidates, and the respondents' political history. Data were also collected on specific domestic and foreign policy issues such as government involvement in housing and public utilities, and United States aid to anti-Communist nations. The study also ascertained the financial situation of the family unit and other demographic information.   \n",
       "3  This study is part of a time-series collection of national surveys fielded continuously since 1952. The election studies are designed to present data on Americans' social backgrounds, enduring political predispositions, social and political values, perceptions and evaluations of groups and candidates, opinions on questions of public policy, and participation in political life.                                                                                                                                                                                                                                                                                                                                                                                                                                                                                                                                                                                                                                                                                                                                                                                                                                                                                                                                                                                                                                                                                                                                                                                                                                   \n",
       "4  This study is part of a time-series collection of national surveys fielded continuously since 1948. The election studies are designed to present data on Americans' social backgrounds, enduring political predispositions, social and political values, perceptions and evaluations of groups and candidates, opinions on questions of public policy, and participation in political life. The ANES 1962 Time Series Study is a traditional time series study, conducted face-to-face after the congressional election. The data were collected as part of the Survey Research Center Economic Behavior Program's Fall Omnibus Survey, which was designed to measure consumer confidence and optimism but also included questions in other areas such as political behavior and political attitudes. The questionnaire used served both the 1962 ANES and the Fall Omnibus, but the 1962 ANES excluded questions that were specifically gathered for the EBP survey alone. In addition to content on electoral participation, voting behavior, and public opinion, the 1962 ANES includes items on partisanship, government enforcement of school integration, and financial and business conditions.                                                                                                                                                                                                                                                                                                                                                                                                                        \n",
       "\n",
       "  family_identifier  \\\n",
       "0                     \n",
       "1                     \n",
       "2                     \n",
       "3                     \n",
       "4                     \n",
       "\n",
       "                                                            identifier_list  \\\n",
       "0  [{'name': 'ICPSR data ID (dataId)', 'identifier': '10.3886/ICPSR07213'}]   \n",
       "1  [{'name': 'ICPSR data ID (dataId)', 'identifier': '10.3886/ICPSR07214'}]   \n",
       "2  [{'name': 'ICPSR data ID (dataId)', 'identifier': '10.3886/ICPSR07215'}]   \n",
       "3  [{'name': 'ICPSR data ID (dataId)', 'identifier': '10.3886/ICPSR07216'}]   \n",
       "4  [{'name': 'ICPSR data ID (dataId)', 'identifier': '10.3886/ICPSR07217'}]   \n",
       "\n",
       "                                                                                                                                                                                                                                                                                                                                                                                                                                                                                                                                                  mention_list  \\\n",
       "0  [ANES study, ICPSR, SRC data, Surveys conducted by the Survey Research Center and the Center for Political Studies of the University, eight SRC-CPS presidential election surveys, eight SRC-CPS presidential election surveys con- ducted between 1952 and 1980, eight presidential election surveys conducted by the Survey Research Center and the Center for Political Studies (SRC-CPS), time series]                                                                                                                                                    \n",
       "1  [American national election studies, SRC-CPS congressional election surveys conducted be- tween 1958 and 1978, SRC-CPS presidential election studies, SRC-CPS presidential election surveys, SRC-CPS presidential election surveys con- ducted between 1952 and 1980, SRC-CPS surveys, Survey Research Center and the Center for Political Studies (SRC-CPS), Surveys conducted by the Survey Research Center and the Center for Political Studies of the University, surveys conducted by the Survey Research Center and the Center for Political Studies]   \n",
       "2  []                                                                                                                                                                                                                                                                                                                                                                                                                                                                                                                                                            \n",
       "3  []                                                                                                                                                                                                                                                                                                                                                                                                                                                                                                                                                            \n",
       "4  []                                                                                                                                                                                                                                                                                                                                                                                                                                                                                                                                                            \n",
       "\n",
       "  methodology                         name  \\\n",
       "0              ANES 1952 Time Series Study   \n",
       "1              ANES 1956 Time Series Study   \n",
       "2              ANES 1958 Time Series Study   \n",
       "3              ANES 1960 Time Series Study   \n",
       "4              ANES 1962 Time Series Study   \n",
       "\n",
       "                                                                                                                                                                                                                                                                                                                                                                                                                                                                                                subjects  \\\n",
       "0  candidates,congressional elections,domestic policy,economic conditions,foreign policy,government performance,information sources,national elections,political affiliation,political attitudes,political campaigns,political efficacy,political issues,political participation,presidential elections,public approval,public opinion,special interest groups,Truman Administration (1945-1953),trust in government,voter expectations,voting behavior,United States,1952-09--1952-12                     \n",
       "1  candidates,congressional elections,domestic policy,economic conditions,Eisenhower Administration (1953-1961),foreign policy,government performance,information sources,national elections,political affiliation,political attitudes,political campaigns,political efficacy,political issues,political participation,public approval,public opinion,special interest groups,trust in government,voter expectations,voting behavior,United States,1956-09--1957-01                                        \n",
       "2  candidates,congressional elections,domestic policy,economic conditions,Eisenhower Administration (1953-1961),foreign policy,government performance,information sources,national elections,political affiliation,political attitudes,political campaigns,political efficacy,political issues,political participation,public approval,public opinion,special interest groups,trust in government,voter expectations,voter history,voting behavior,United States,1958-11--1958-12                          \n",
       "3  candidates,congressional elections,domestic policy,economic conditions,Eisenhower Administration (1953-1961),foreign policy,government performance,information sources,national elections,political affiliation,political attitudes,political campaigns,political efficacy,political issues,political participation,presidential elections,public approval,public opinion,special interest groups,trust in government,voter expectations,voter history,voting behavior,United States,1960-09--1960-12   \n",
       "4  candidates,congressional elections,domestic policy,economic conditions,foreign policy,government performance,information sources,Kennedy Administration (1961-1963),national elections,political affiliation,political attitudes,political campaigns,political efficacy,political issues,political participation,presidential elections,public approval,public opinion,special interest groups,trust in government,voter expectations,voter history,voting behavior,United States,1962-11--1962-12      \n",
       "\n",
       "                         title   unique_identifier         title_unique  \\\n",
       "0  ANES 1952 Time Series Study  10.3886/ICPSR07213  anestimeseriesstudy   \n",
       "1  ANES 1956 Time Series Study  10.3886/ICPSR07214  anestimeseriesstudy   \n",
       "2  ANES 1958 Time Series Study  10.3886/ICPSR07215  anestimeseriesstudy   \n",
       "3  ANES 1960 Time Series Study  10.3886/ICPSR07216  anestimeseriesstudy   \n",
       "4  ANES 1962 Time Series Study  10.3886/ICPSR07217  anestimeseriesstudy   \n",
       "\n",
       "     title_id  \n",
       "0  title_1012  \n",
       "1  title_1012  \n",
       "2  title_1012  \n",
       "3  title_1012  \n",
       "4  title_1012  "
      ]
     },
     "execution_count": 20,
     "metadata": {},
     "output_type": "execute_result"
    }
   ],
   "source": [
    "df_datasets.head()"
   ]
  },
  {
   "cell_type": "code",
   "execution_count": null,
   "metadata": {},
   "outputs": [],
   "source": []
  }
 ],
 "metadata": {
  "kernelspec": {
   "display_name": "DS Base",
   "language": "python",
   "name": "ds_base"
  },
  "language_info": {
   "codemirror_mode": {
    "name": "ipython",
    "version": 3
   },
   "file_extension": ".py",
   "mimetype": "text/x-python",
   "name": "python",
   "nbconvert_exporter": "python",
   "pygments_lexer": "ipython3",
   "version": "3.6.7"
  }
 },
 "nbformat": 4,
 "nbformat_minor": 4
}
