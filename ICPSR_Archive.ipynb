{
 "cells": [
  {
   "cell_type": "markdown",
   "metadata": {},
   "source": [
    "# ICPSR Dataset Archive"
   ]
  },
  {
   "cell_type": "code",
   "execution_count": 22,
   "metadata": {
    "jupyter": {
     "source_hidden": true
    }
   },
   "outputs": [],
   "source": [
    "from IPython.display import display\n",
    "from ipywidgets import interact, interactive, fixed, interact_manual, HBox, VBox, Label\n",
    "\n",
    "import ipywidgets as widgets\n",
    "import pandas as pd\n",
    "import qgrid\n",
    "\n",
    "datasets = pd.read_json('data/data_sets.json')"
   ]
  },
  {
   "cell_type": "code",
   "execution_count": 16,
   "metadata": {
    "jupyter": {
     "source_hidden": true
    }
   },
   "outputs": [
    {
     "data": {
      "application/vnd.jupyter.widget-view+json": {
       "model_id": "e831f0e49f9c43c9a5d83f38f11902c4",
       "version_major": 2,
       "version_minor": 0
      },
      "text/plain": [
       "interactive(children=(Dropdown(description='By', options=('Dataset Title', 'Dataset ID'), value='Dataset Title…"
      ]
     },
     "metadata": {},
     "output_type": "display_data"
    }
   ],
   "source": [
    "@interact\n",
    "\n",
    "def showDatasets(By = ['Dataset Title', 'Dataset ID'], Search=\"ANES 1952\"):\n",
    "    column = {\n",
    "        'Dataset Title': 'title',\n",
    "        'Dataset ID': 'data_set_id'\n",
    "    }\n",
    "    slist = Search.split(',')\n",
    "    return slist\n",
    "    try:\n",
    "        if(By == 'Dataset Title'):\n",
    "            return datasets[['data_set_id', 'unique_identifier','title', 'description']].loc[datasets[column[By]].str.contains('|'.join(slist))]\n",
    "        else:\n",
    "            return datasets[['data_set_id', 'unique_identifier','title', 'description']].loc[datasets[column[By]].isin([int(n) for n in slist])]\n",
    "    except Exception as e:\n",
    "        pass\n",
    "    "
   ]
  },
  {
   "cell_type": "code",
   "execution_count": 123,
   "metadata": {
    "jupyter": {
     "source_hidden": true
    }
   },
   "outputs": [],
   "source": [
    "import networkx as nx\n",
    "import random\n",
    "from networkx.readwrite import json_graph\n",
    "import json\n",
    "\n",
    "def read_json_file(filename):\n",
    "    with open(filename, 'r') as f:\n",
    "        js_graph = json.load(f)\n",
    "    return json_graph.node_link_graph(js_graph)\n",
    "def generatePairs(firstnode, allDatasets):\n",
    "    return [(firstnode, i) for i in allDatasets]\n",
    "def getJaccard(node, g):\n",
    "    allDatasets = [i for i in g.nodes if(str(i).startswith('data'))]\n",
    "    titleID = df_datasets.title_id[df_datasets.data_set_id == int(node.replace('data_', ''))]\n",
    "    filterSim = list(df_datasets.data_set_id[df_datasets.title_id == titleID.iloc[0]])\n",
    "    filterSim = ['data_'+str(i) for i in filterSim]\n",
    "    \n",
    "    filtered = [i for i in allDatasets if i not in filterSim]\n",
    "    pairs = generatePairs(node, filtered)\n",
    "    preds_jaccard = nx.jaccard_coefficient(g, pairs)\n",
    "    res = []\n",
    "    for u, v, p in preds_jaccard:\n",
    "        if p > 0.0:\n",
    "            res.append((u,v,p))\n",
    "    return res\n",
    "\n",
    "G = read_json_file('data/network_json.json')\n",
    "\n",
    "titles = datasets.title.str.lower()\n",
    "titles = titles.str.replace('[^a-zA-Z]', '')\n",
    "\n",
    "df_titles = pd.DataFrame(set(titles)).reset_index()\n",
    "df_titles.columns = ['title_id','title_unique']\n",
    "df_titles.title_id = ['title_'+str(i) for i in df_titles.index]\n",
    "\n",
    "df_datasets = datasets.copy()\n",
    "df_datasets['title_unique'] = df_datasets['title'].str.lower()\n",
    "df_datasets.title_unique = df_datasets.title_unique.str.replace('[^a-zA-Z]', '')\n",
    "df_datasets = pd.merge(df_datasets, df_titles, on='title_unique', how='left')"
   ]
  },
  {
   "cell_type": "code",
   "execution_count": 129,
   "metadata": {},
   "outputs": [
    {
     "data": {
      "application/vnd.jupyter.widget-view+json": {
       "model_id": "d336663555534b6599d693af9d8cd5b0",
       "version_major": 2,
       "version_minor": 0
      },
      "text/plain": [
       "Label(value='Press to generate random set of recommendations')"
      ]
     },
     "metadata": {},
     "output_type": "display_data"
    },
    {
     "data": {
      "application/vnd.jupyter.widget-view+json": {
       "model_id": "6d27b2846a8843c39090891d95a9688a",
       "version_major": 2,
       "version_minor": 0
      },
      "text/plain": [
       "Button(description='Generate', style=ButtonStyle())"
      ]
     },
     "metadata": {},
     "output_type": "display_data"
    },
    {
     "data": {
      "application/vnd.jupyter.widget-view+json": {
       "model_id": "6bf2a57f22ea400287256b2fe0be6018",
       "version_major": 2,
       "version_minor": 0
      },
      "text/plain": [
       "Output()"
      ]
     },
     "metadata": {},
     "output_type": "display_data"
    }
   ],
   "source": [
    "btn = widgets.Button(description = \"Generate\")\n",
    "display(Label('Press to generate random set of recommendations'), btn)\n",
    "output = widgets.Output()\n",
    "\n",
    "allDatasets = [i for i in G.nodes if(str(i).startswith('data'))]\n",
    "\n",
    "@output.capture()\n",
    "def button_handler(btn):\n",
    "    sampleDataset = random.sample(allDatasets, 1)\n",
    "    for i in sampleDataset:\n",
    "        tmp = getJaccard(i, G)\n",
    "        print(\"Fetching dataset ID: %s \\nCalculating similarity scores for %s/%s datasets\"%(i, len(tmp),len(allDatasets)))\n",
    "        if len(tmp)>0:\n",
    "            res = getJaccard(i, G)\n",
    "            df = pd.DataFrame(res, columns=['x', 'y', 'score']).sort_values(by=['score'], ascending=False).reset_index()\n",
    "            \n",
    "            display(df[['y', 'score']].iloc[:6])\n",
    "            display(\",\".join([i.replace('data_', '') for i in df.y[:10]]))\n",
    "btn.on_click(button_handler)\n",
    "display(output)"
   ]
  },
  {
   "cell_type": "code",
   "execution_count": null,
   "metadata": {},
   "outputs": [],
   "source": []
  }
 ],
 "metadata": {
  "kernelspec": {
   "display_name": "DS Base",
   "language": "python",
   "name": "ds_base"
  },
  "language_info": {
   "codemirror_mode": {
    "name": "ipython",
    "version": 3
   },
   "file_extension": ".py",
   "mimetype": "text/x-python",
   "name": "python",
   "nbconvert_exporter": "python",
   "pygments_lexer": "ipython3",
   "version": "3.6.7"
  }
 },
 "nbformat": 4,
 "nbformat_minor": 4
}
