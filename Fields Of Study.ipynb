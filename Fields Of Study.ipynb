{
 "cells": [
  {
   "cell_type": "code",
   "execution_count": 28,
   "metadata": {},
   "outputs": [],
   "source": [
    "import networkx as nx\n",
    "import pandas as pd\n",
    "import numpy as np\n",
    "import seaborn as sns\n",
    "import matplotlib.pyplot as plt\n",
    "import time\n",
    "\n",
    "%matplotlib inline\n"
   ]
  },
  {
   "cell_type": "code",
   "execution_count": 29,
   "metadata": {},
   "outputs": [],
   "source": [
    "mag_pub_doi = pd.read_csv('data/Full_mag&publications_doi.csv', dtype=object )\n",
    "mag_p1p2_doi = pd.read_csv('data/Full_mag&phase1+2_doi.csv', dtype=object)"
   ]
  },
  {
   "cell_type": "code",
   "execution_count": 30,
   "metadata": {},
   "outputs": [
    {
     "data": {
      "text/html": [
       "<div>\n",
       "<style scoped>\n",
       "    .dataframe tbody tr th:only-of-type {\n",
       "        vertical-align: middle;\n",
       "    }\n",
       "\n",
       "    .dataframe tbody tr th {\n",
       "        vertical-align: top;\n",
       "    }\n",
       "\n",
       "    .dataframe thead th {\n",
       "        text-align: right;\n",
       "    }\n",
       "</style>\n",
       "<table border=\"1\" class=\"dataframe\">\n",
       "  <thead>\n",
       "    <tr style=\"text-align: right;\">\n",
       "      <th></th>\n",
       "      <th>title1</th>\n",
       "      <th>PaperId</th>\n",
       "      <th>Doi</th>\n",
       "    </tr>\n",
       "  </thead>\n",
       "  <tbody>\n",
       "    <tr>\n",
       "      <th>0</th>\n",
       "      <td>10.1001/archpedi.160.3.279</td>\n",
       "      <td>2137918531</td>\n",
       "      <td>10.1001/archpedi.160.3.279</td>\n",
       "    </tr>\n",
       "    <tr>\n",
       "      <th>1</th>\n",
       "      <td>10.1001/jama.287.9.1123</td>\n",
       "      <td>2106231056</td>\n",
       "      <td>10.1001/jama.287.9.1123</td>\n",
       "    </tr>\n",
       "    <tr>\n",
       "      <th>2</th>\n",
       "      <td>10.1038/ajh.2010.40</td>\n",
       "      <td>2039034380</td>\n",
       "      <td>10.1038/ajh.2010.40</td>\n",
       "    </tr>\n",
       "    <tr>\n",
       "      <th>3</th>\n",
       "      <td>10.1038/oby.2000.79</td>\n",
       "      <td>2029957476</td>\n",
       "      <td>10.1038/oby.2000.79</td>\n",
       "    </tr>\n",
       "    <tr>\n",
       "      <th>4</th>\n",
       "      <td>10.1038/oby.2009.365</td>\n",
       "      <td>2083124104</td>\n",
       "      <td>10.1038/oby.2009.365</td>\n",
       "    </tr>\n",
       "  </tbody>\n",
       "</table>\n",
       "</div>"
      ],
      "text/plain": [
       "                       title1     PaperId                         Doi\n",
       "0  10.1001/archpedi.160.3.279  2137918531  10.1001/archpedi.160.3.279\n",
       "1     10.1001/jama.287.9.1123  2106231056     10.1001/jama.287.9.1123\n",
       "2         10.1038/ajh.2010.40  2039034380         10.1038/ajh.2010.40\n",
       "3         10.1038/oby.2000.79  2029957476         10.1038/oby.2000.79\n",
       "4        10.1038/oby.2009.365  2083124104        10.1038/oby.2009.365"
      ]
     },
     "execution_count": 30,
     "metadata": {},
     "output_type": "execute_result"
    }
   ],
   "source": [
    "mag_pub_doi.head()"
   ]
  },
  {
   "cell_type": "code",
   "execution_count": 31,
   "metadata": {},
   "outputs": [],
   "source": [
    "mag_pub_doi.rename(columns={\"title1\":\"unique_identifier\"}, inplace=True)"
   ]
  },
  {
   "cell_type": "code",
   "execution_count": 32,
   "metadata": {},
   "outputs": [
    {
     "data": {
      "text/html": [
       "<div>\n",
       "<style scoped>\n",
       "    .dataframe tbody tr th:only-of-type {\n",
       "        vertical-align: middle;\n",
       "    }\n",
       "\n",
       "    .dataframe tbody tr th {\n",
       "        vertical-align: top;\n",
       "    }\n",
       "\n",
       "    .dataframe thead th {\n",
       "        text-align: right;\n",
       "    }\n",
       "</style>\n",
       "<table border=\"1\" class=\"dataframe\">\n",
       "  <thead>\n",
       "    <tr style=\"text-align: right;\">\n",
       "      <th></th>\n",
       "      <th>unique_identifier</th>\n",
       "      <th>PaperId</th>\n",
       "      <th>Doi</th>\n",
       "    </tr>\n",
       "  </thead>\n",
       "  <tbody>\n",
       "    <tr>\n",
       "      <th>0</th>\n",
       "      <td>10.1001/archpedi.160.3.279</td>\n",
       "      <td>2137918531</td>\n",
       "      <td>10.1001/archpedi.160.3.279</td>\n",
       "    </tr>\n",
       "    <tr>\n",
       "      <th>1</th>\n",
       "      <td>10.1001/jama.287.9.1123</td>\n",
       "      <td>2106231056</td>\n",
       "      <td>10.1001/jama.287.9.1123</td>\n",
       "    </tr>\n",
       "    <tr>\n",
       "      <th>2</th>\n",
       "      <td>10.1038/ajh.2010.40</td>\n",
       "      <td>2039034380</td>\n",
       "      <td>10.1038/ajh.2010.40</td>\n",
       "    </tr>\n",
       "    <tr>\n",
       "      <th>3</th>\n",
       "      <td>10.1038/oby.2000.79</td>\n",
       "      <td>2029957476</td>\n",
       "      <td>10.1038/oby.2000.79</td>\n",
       "    </tr>\n",
       "    <tr>\n",
       "      <th>4</th>\n",
       "      <td>10.1038/oby.2009.365</td>\n",
       "      <td>2083124104</td>\n",
       "      <td>10.1038/oby.2009.365</td>\n",
       "    </tr>\n",
       "  </tbody>\n",
       "</table>\n",
       "</div>"
      ],
      "text/plain": [
       "            unique_identifier     PaperId                         Doi\n",
       "0  10.1001/archpedi.160.3.279  2137918531  10.1001/archpedi.160.3.279\n",
       "1     10.1001/jama.287.9.1123  2106231056     10.1001/jama.287.9.1123\n",
       "2         10.1038/ajh.2010.40  2039034380         10.1038/ajh.2010.40\n",
       "3         10.1038/oby.2000.79  2029957476         10.1038/oby.2000.79\n",
       "4        10.1038/oby.2009.365  2083124104        10.1038/oby.2009.365"
      ]
     },
     "execution_count": 32,
     "metadata": {},
     "output_type": "execute_result"
    }
   ],
   "source": [
    "mag_pub_doi.head()"
   ]
  },
  {
   "cell_type": "code",
   "execution_count": 33,
   "metadata": {},
   "outputs": [
    {
     "data": {
      "text/html": [
       "<div>\n",
       "<style scoped>\n",
       "    .dataframe tbody tr th:only-of-type {\n",
       "        vertical-align: middle;\n",
       "    }\n",
       "\n",
       "    .dataframe tbody tr th {\n",
       "        vertical-align: top;\n",
       "    }\n",
       "\n",
       "    .dataframe thead th {\n",
       "        text-align: right;\n",
       "    }\n",
       "</style>\n",
       "<table border=\"1\" class=\"dataframe\">\n",
       "  <thead>\n",
       "    <tr style=\"text-align: right;\">\n",
       "      <th></th>\n",
       "      <th>unique_identifier</th>\n",
       "      <th>PaperId</th>\n",
       "      <th>Doi</th>\n",
       "    </tr>\n",
       "  </thead>\n",
       "  <tbody>\n",
       "    <tr>\n",
       "      <th>0</th>\n",
       "      <td>10.1111/j.1471-6402.1996.tb00667.x</td>\n",
       "      <td>2139120848</td>\n",
       "      <td>10.1111/j.1471-6402.1996.tb00667.x</td>\n",
       "    </tr>\n",
       "    <tr>\n",
       "      <th>1</th>\n",
       "      <td>10.1177/0011128718779363</td>\n",
       "      <td>2807275068</td>\n",
       "      <td>10.1177/0011128718779363</td>\n",
       "    </tr>\n",
       "    <tr>\n",
       "      <th>2</th>\n",
       "      <td>10.1177/0014585816669937</td>\n",
       "      <td>2580410881</td>\n",
       "      <td>10.1177/0014585816669937</td>\n",
       "    </tr>\n",
       "    <tr>\n",
       "      <th>3</th>\n",
       "      <td>10.1177/0031512517720565</td>\n",
       "      <td>2737937147</td>\n",
       "      <td>10.1177/0031512517720565</td>\n",
       "    </tr>\n",
       "    <tr>\n",
       "      <th>4</th>\n",
       "      <td>10.1177/0093854806290239</td>\n",
       "      <td>1968333705</td>\n",
       "      <td>10.1177/0093854806290239</td>\n",
       "    </tr>\n",
       "  </tbody>\n",
       "</table>\n",
       "</div>"
      ],
      "text/plain": [
       "                    unique_identifier     PaperId  \\\n",
       "0  10.1111/j.1471-6402.1996.tb00667.x  2139120848   \n",
       "1            10.1177/0011128718779363  2807275068   \n",
       "2            10.1177/0014585816669937  2580410881   \n",
       "3            10.1177/0031512517720565  2737937147   \n",
       "4            10.1177/0093854806290239  1968333705   \n",
       "\n",
       "                                  Doi  \n",
       "0  10.1111/j.1471-6402.1996.tb00667.x  \n",
       "1            10.1177/0011128718779363  \n",
       "2            10.1177/0014585816669937  \n",
       "3            10.1177/0031512517720565  \n",
       "4            10.1177/0093854806290239  "
      ]
     },
     "execution_count": 33,
     "metadata": {},
     "output_type": "execute_result"
    }
   ],
   "source": [
    "mag_p1p2_doi.head()"
   ]
  },
  {
   "cell_type": "code",
   "execution_count": 34,
   "metadata": {},
   "outputs": [
    {
     "data": {
      "text/html": [
       "<div>\n",
       "<style scoped>\n",
       "    .dataframe tbody tr th:only-of-type {\n",
       "        vertical-align: middle;\n",
       "    }\n",
       "\n",
       "    .dataframe tbody tr th {\n",
       "        vertical-align: top;\n",
       "    }\n",
       "\n",
       "    .dataframe thead th {\n",
       "        text-align: right;\n",
       "    }\n",
       "</style>\n",
       "<table border=\"1\" class=\"dataframe\">\n",
       "  <thead>\n",
       "    <tr style=\"text-align: right;\">\n",
       "      <th></th>\n",
       "      <th>unique_identifier</th>\n",
       "      <th>PaperId</th>\n",
       "      <th>Doi</th>\n",
       "    </tr>\n",
       "  </thead>\n",
       "  <tbody>\n",
       "    <tr>\n",
       "      <th>0</th>\n",
       "      <td>10.1001/archpedi.160.3.279</td>\n",
       "      <td>2137918531</td>\n",
       "      <td>10.1001/archpedi.160.3.279</td>\n",
       "    </tr>\n",
       "    <tr>\n",
       "      <th>1</th>\n",
       "      <td>10.1001/jama.287.9.1123</td>\n",
       "      <td>2106231056</td>\n",
       "      <td>10.1001/jama.287.9.1123</td>\n",
       "    </tr>\n",
       "    <tr>\n",
       "      <th>2</th>\n",
       "      <td>10.1038/ajh.2010.40</td>\n",
       "      <td>2039034380</td>\n",
       "      <td>10.1038/ajh.2010.40</td>\n",
       "    </tr>\n",
       "    <tr>\n",
       "      <th>3</th>\n",
       "      <td>10.1038/oby.2000.79</td>\n",
       "      <td>2029957476</td>\n",
       "      <td>10.1038/oby.2000.79</td>\n",
       "    </tr>\n",
       "    <tr>\n",
       "      <th>4</th>\n",
       "      <td>10.1038/oby.2009.365</td>\n",
       "      <td>2083124104</td>\n",
       "      <td>10.1038/oby.2009.365</td>\n",
       "    </tr>\n",
       "    <tr>\n",
       "      <th>5</th>\n",
       "      <td>10.1068/i0701</td>\n",
       "      <td>2075585088</td>\n",
       "      <td>10.1068/i0701</td>\n",
       "    </tr>\n",
       "    <tr>\n",
       "      <th>6</th>\n",
       "      <td>10.1080/10911350903341077</td>\n",
       "      <td>2039617691</td>\n",
       "      <td>10.1080/10911350903341077</td>\n",
       "    </tr>\n",
       "    <tr>\n",
       "      <th>7</th>\n",
       "      <td>10.1097/00001648-199307000-00005</td>\n",
       "      <td>2058242293</td>\n",
       "      <td>10.1097/00001648-199307000-00005</td>\n",
       "    </tr>\n",
       "    <tr>\n",
       "      <th>8</th>\n",
       "      <td>10.1097/AOG.0b013e31818b0df2</td>\n",
       "      <td>1986943575</td>\n",
       "      <td>10.1097/AOG.0b013e31818b0df2</td>\n",
       "    </tr>\n",
       "    <tr>\n",
       "      <th>9</th>\n",
       "      <td>10.1097/OLQ.0b013e318074e565</td>\n",
       "      <td>2017153096</td>\n",
       "      <td>10.1097/OLQ.0b013e318074e565</td>\n",
       "    </tr>\n",
       "  </tbody>\n",
       "</table>\n",
       "</div>"
      ],
      "text/plain": [
       "                  unique_identifier     PaperId  \\\n",
       "0        10.1001/archpedi.160.3.279  2137918531   \n",
       "1           10.1001/jama.287.9.1123  2106231056   \n",
       "2               10.1038/ajh.2010.40  2039034380   \n",
       "3               10.1038/oby.2000.79  2029957476   \n",
       "4              10.1038/oby.2009.365  2083124104   \n",
       "5                     10.1068/i0701  2075585088   \n",
       "6         10.1080/10911350903341077  2039617691   \n",
       "7  10.1097/00001648-199307000-00005  2058242293   \n",
       "8      10.1097/AOG.0b013e31818b0df2  1986943575   \n",
       "9      10.1097/OLQ.0b013e318074e565  2017153096   \n",
       "\n",
       "                                Doi  \n",
       "0        10.1001/archpedi.160.3.279  \n",
       "1           10.1001/jama.287.9.1123  \n",
       "2               10.1038/ajh.2010.40  \n",
       "3               10.1038/oby.2000.79  \n",
       "4              10.1038/oby.2009.365  \n",
       "5                     10.1068/i0701  \n",
       "6         10.1080/10911350903341077  \n",
       "7  10.1097/00001648-199307000-00005  \n",
       "8      10.1097/AOG.0b013e31818b0df2  \n",
       "9      10.1097/OLQ.0b013e318074e565  "
      ]
     },
     "execution_count": 34,
     "metadata": {},
     "output_type": "execute_result"
    }
   ],
   "source": [
    "alldata_doi = pd.concat([mag_pub_doi, mag_p1p2_doi])\n",
    "alldata_doi.head(10)"
   ]
  },
  {
   "cell_type": "code",
   "execution_count": 35,
   "metadata": {},
   "outputs": [],
   "source": [
    "#alldata_doi.to_csv('alldata_doi_paperID.csv')"
   ]
  },
  {
   "cell_type": "code",
   "execution_count": 36,
   "metadata": {},
   "outputs": [
    {
     "data": {
      "text/plain": [
       "14545"
      ]
     },
     "execution_count": 36,
     "metadata": {},
     "output_type": "execute_result"
    }
   ],
   "source": [
    "alldata_doi.PaperId.nunique()"
   ]
  },
  {
   "cell_type": "code",
   "execution_count": 37,
   "metadata": {},
   "outputs": [
    {
     "data": {
      "text/plain": [
       "4809"
      ]
     },
     "execution_count": 37,
     "metadata": {},
     "output_type": "execute_result"
    }
   ],
   "source": [
    "mag_pub_doi.PaperId.nunique()"
   ]
  },
  {
   "cell_type": "code",
   "execution_count": 38,
   "metadata": {},
   "outputs": [
    {
     "data": {
      "text/plain": [
       "9736"
      ]
     },
     "execution_count": 38,
     "metadata": {},
     "output_type": "execute_result"
    }
   ],
   "source": [
    "mag_p1p2_doi.PaperId.nunique()"
   ]
  },
  {
   "cell_type": "code",
   "execution_count": 39,
   "metadata": {},
   "outputs": [],
   "source": [
    "fos = pd.read_csv('data/mag&alldata_FoS.csv', dtype=object)"
   ]
  },
  {
   "cell_type": "code",
   "execution_count": 40,
   "metadata": {},
   "outputs": [
    {
     "data": {
      "text/html": [
       "<div>\n",
       "<style scoped>\n",
       "    .dataframe tbody tr th:only-of-type {\n",
       "        vertical-align: middle;\n",
       "    }\n",
       "\n",
       "    .dataframe tbody tr th {\n",
       "        vertical-align: top;\n",
       "    }\n",
       "\n",
       "    .dataframe thead th {\n",
       "        text-align: right;\n",
       "    }\n",
       "</style>\n",
       "<table border=\"1\" class=\"dataframe\">\n",
       "  <thead>\n",
       "    <tr style=\"text-align: right;\">\n",
       "      <th></th>\n",
       "      <th>PaperId</th>\n",
       "      <th>FieldOfStudyId</th>\n",
       "      <th>NormalizedName</th>\n",
       "      <th>PaperCount</th>\n",
       "    </tr>\n",
       "  </thead>\n",
       "  <tbody>\n",
       "    <tr>\n",
       "      <th>0</th>\n",
       "      <td>2770050515</td>\n",
       "      <td>16757182</td>\n",
       "      <td>power function</td>\n",
       "      <td>3289</td>\n",
       "    </tr>\n",
       "    <tr>\n",
       "      <th>1</th>\n",
       "      <td>2468792142</td>\n",
       "      <td>16757182</td>\n",
       "      <td>power function</td>\n",
       "      <td>3289</td>\n",
       "    </tr>\n",
       "    <tr>\n",
       "      <th>2</th>\n",
       "      <td>2321157179</td>\n",
       "      <td>32957820</td>\n",
       "      <td>microclimate</td>\n",
       "      <td>12907</td>\n",
       "    </tr>\n",
       "    <tr>\n",
       "      <th>3</th>\n",
       "      <td>2110133619</td>\n",
       "      <td>35605836</td>\n",
       "      <td>linkage disequilibrium</td>\n",
       "      <td>20582</td>\n",
       "    </tr>\n",
       "    <tr>\n",
       "      <th>4</th>\n",
       "      <td>1983739061</td>\n",
       "      <td>35605836</td>\n",
       "      <td>linkage disequilibrium</td>\n",
       "      <td>20582</td>\n",
       "    </tr>\n",
       "    <tr>\n",
       "      <th>5</th>\n",
       "      <td>1475533234</td>\n",
       "      <td>35605836</td>\n",
       "      <td>linkage disequilibrium</td>\n",
       "      <td>20582</td>\n",
       "    </tr>\n",
       "    <tr>\n",
       "      <th>6</th>\n",
       "      <td>2209828681</td>\n",
       "      <td>38749836</td>\n",
       "      <td>cultural group selection</td>\n",
       "      <td>4565</td>\n",
       "    </tr>\n",
       "    <tr>\n",
       "      <th>7</th>\n",
       "      <td>2133540152</td>\n",
       "      <td>45371612</td>\n",
       "      <td>generalist and specialist species</td>\n",
       "      <td>12100</td>\n",
       "    </tr>\n",
       "    <tr>\n",
       "      <th>8</th>\n",
       "      <td>2599270574</td>\n",
       "      <td>51332947</td>\n",
       "      <td>shared resource</td>\n",
       "      <td>19399</td>\n",
       "    </tr>\n",
       "    <tr>\n",
       "      <th>9</th>\n",
       "      <td>2507827521</td>\n",
       "      <td>53460152</td>\n",
       "      <td>slip</td>\n",
       "      <td>201873</td>\n",
       "    </tr>\n",
       "  </tbody>\n",
       "</table>\n",
       "</div>"
      ],
      "text/plain": [
       "      PaperId FieldOfStudyId                     NormalizedName PaperCount\n",
       "0  2770050515       16757182                     power function       3289\n",
       "1  2468792142       16757182                     power function       3289\n",
       "2  2321157179       32957820                       microclimate      12907\n",
       "3  2110133619       35605836             linkage disequilibrium      20582\n",
       "4  1983739061       35605836             linkage disequilibrium      20582\n",
       "5  1475533234       35605836             linkage disequilibrium      20582\n",
       "6  2209828681       38749836           cultural group selection       4565\n",
       "7  2133540152       45371612  generalist and specialist species      12100\n",
       "8  2599270574       51332947                    shared resource      19399\n",
       "9  2507827521       53460152                               slip     201873"
      ]
     },
     "execution_count": 40,
     "metadata": {},
     "output_type": "execute_result"
    }
   ],
   "source": [
    "fos.head(10)"
   ]
  },
  {
   "cell_type": "code",
   "execution_count": 41,
   "metadata": {},
   "outputs": [
    {
     "data": {
      "text/plain": [
       "14543"
      ]
     },
     "execution_count": 41,
     "metadata": {},
     "output_type": "execute_result"
    }
   ],
   "source": [
    "fos.PaperId.nunique()"
   ]
  },
  {
   "cell_type": "code",
   "execution_count": 42,
   "metadata": {},
   "outputs": [
    {
     "data": {
      "text/plain": [
       "15242"
      ]
     },
     "execution_count": 42,
     "metadata": {},
     "output_type": "execute_result"
    }
   ],
   "source": [
    "fos.FieldOfStudyId.nunique()"
   ]
  },
  {
   "cell_type": "code",
   "execution_count": 43,
   "metadata": {},
   "outputs": [
    {
     "data": {
      "text/html": [
       "<div>\n",
       "<style scoped>\n",
       "    .dataframe tbody tr th:only-of-type {\n",
       "        vertical-align: middle;\n",
       "    }\n",
       "\n",
       "    .dataframe tbody tr th {\n",
       "        vertical-align: top;\n",
       "    }\n",
       "\n",
       "    .dataframe thead th {\n",
       "        text-align: right;\n",
       "    }\n",
       "</style>\n",
       "<table border=\"1\" class=\"dataframe\">\n",
       "  <thead>\n",
       "    <tr style=\"text-align: right;\">\n",
       "      <th></th>\n",
       "      <th>PaperId</th>\n",
       "      <th>FieldOfStudyId</th>\n",
       "      <th>NormalizedName</th>\n",
       "      <th>PaperCount</th>\n",
       "      <th>Doi</th>\n",
       "    </tr>\n",
       "  </thead>\n",
       "  <tbody>\n",
       "    <tr>\n",
       "      <th>0</th>\n",
       "      <td>2137918531</td>\n",
       "      <td>156957248</td>\n",
       "      <td>odds ratio</td>\n",
       "      <td>170515</td>\n",
       "      <td>10.1001/archpedi.160.3.279</td>\n",
       "    </tr>\n",
       "    <tr>\n",
       "      <th>1</th>\n",
       "      <td>2137918531</td>\n",
       "      <td>71924100</td>\n",
       "      <td>medicine</td>\n",
       "      <td>27411731</td>\n",
       "      <td>10.1001/archpedi.160.3.279</td>\n",
       "    </tr>\n",
       "    <tr>\n",
       "      <th>2</th>\n",
       "      <td>2137918531</td>\n",
       "      <td>143095724</td>\n",
       "      <td>odds</td>\n",
       "      <td>36791</td>\n",
       "      <td>10.1001/archpedi.160.3.279</td>\n",
       "    </tr>\n",
       "    <tr>\n",
       "      <th>3</th>\n",
       "      <td>2137918531</td>\n",
       "      <td>2778564845</td>\n",
       "      <td>center for epidemiologic studies depression scale</td>\n",
       "      <td>2199</td>\n",
       "      <td>10.1001/archpedi.160.3.279</td>\n",
       "    </tr>\n",
       "    <tr>\n",
       "      <th>4</th>\n",
       "      <td>2137918531</td>\n",
       "      <td>109260823</td>\n",
       "      <td>child development</td>\n",
       "      <td>48098</td>\n",
       "      <td>10.1001/archpedi.160.3.279</td>\n",
       "    </tr>\n",
       "    <tr>\n",
       "      <th>5</th>\n",
       "      <td>2137918531</td>\n",
       "      <td>107130276</td>\n",
       "      <td>epidemiology</td>\n",
       "      <td>409909</td>\n",
       "      <td>10.1001/archpedi.160.3.279</td>\n",
       "    </tr>\n",
       "    <tr>\n",
       "      <th>6</th>\n",
       "      <td>2137918531</td>\n",
       "      <td>2776283161</td>\n",
       "      <td>breastfeeding</td>\n",
       "      <td>41433</td>\n",
       "      <td>10.1001/archpedi.160.3.279</td>\n",
       "    </tr>\n",
       "    <tr>\n",
       "      <th>7</th>\n",
       "      <td>2137918531</td>\n",
       "      <td>187212893</td>\n",
       "      <td>pediatrics</td>\n",
       "      <td>1058722</td>\n",
       "      <td>10.1001/archpedi.160.3.279</td>\n",
       "    </tr>\n",
       "    <tr>\n",
       "      <th>8</th>\n",
       "      <td>2106231056</td>\n",
       "      <td>2779407169</td>\n",
       "      <td>memory disorder</td>\n",
       "      <td>4967</td>\n",
       "      <td>10.1001/jama.287.9.1123</td>\n",
       "    </tr>\n",
       "    <tr>\n",
       "      <th>9</th>\n",
       "      <td>2106231056</td>\n",
       "      <td>71924100</td>\n",
       "      <td>medicine</td>\n",
       "      <td>27411731</td>\n",
       "      <td>10.1001/jama.287.9.1123</td>\n",
       "    </tr>\n",
       "  </tbody>\n",
       "</table>\n",
       "</div>"
      ],
      "text/plain": [
       "      PaperId FieldOfStudyId  \\\n",
       "0  2137918531      156957248   \n",
       "1  2137918531       71924100   \n",
       "2  2137918531      143095724   \n",
       "3  2137918531     2778564845   \n",
       "4  2137918531      109260823   \n",
       "5  2137918531      107130276   \n",
       "6  2137918531     2776283161   \n",
       "7  2137918531      187212893   \n",
       "8  2106231056     2779407169   \n",
       "9  2106231056       71924100   \n",
       "\n",
       "                                      NormalizedName PaperCount  \\\n",
       "0                                         odds ratio     170515   \n",
       "1                                           medicine   27411731   \n",
       "2                                               odds      36791   \n",
       "3  center for epidemiologic studies depression scale       2199   \n",
       "4                                  child development      48098   \n",
       "5                                       epidemiology     409909   \n",
       "6                                      breastfeeding      41433   \n",
       "7                                         pediatrics    1058722   \n",
       "8                                    memory disorder       4967   \n",
       "9                                           medicine   27411731   \n",
       "\n",
       "                          Doi  \n",
       "0  10.1001/archpedi.160.3.279  \n",
       "1  10.1001/archpedi.160.3.279  \n",
       "2  10.1001/archpedi.160.3.279  \n",
       "3  10.1001/archpedi.160.3.279  \n",
       "4  10.1001/archpedi.160.3.279  \n",
       "5  10.1001/archpedi.160.3.279  \n",
       "6  10.1001/archpedi.160.3.279  \n",
       "7  10.1001/archpedi.160.3.279  \n",
       "8     10.1001/jama.287.9.1123  \n",
       "9     10.1001/jama.287.9.1123  "
      ]
     },
     "execution_count": 43,
     "metadata": {},
     "output_type": "execute_result"
    }
   ],
   "source": [
    "allFoS_doi = pd.merge(alldata_doi, fos, left_on='PaperId', right_on='PaperId', how='inner')[['PaperId','FieldOfStudyId','NormalizedName','PaperCount','Doi']]\n",
    "\n",
    "allFoS_doi.head(10)"
   ]
  },
  {
   "cell_type": "code",
   "execution_count": 44,
   "metadata": {},
   "outputs": [
    {
     "data": {
      "text/html": [
       "<div>\n",
       "<style scoped>\n",
       "    .dataframe tbody tr th:only-of-type {\n",
       "        vertical-align: middle;\n",
       "    }\n",
       "\n",
       "    .dataframe tbody tr th {\n",
       "        vertical-align: top;\n",
       "    }\n",
       "\n",
       "    .dataframe thead th {\n",
       "        text-align: right;\n",
       "    }\n",
       "</style>\n",
       "<table border=\"1\" class=\"dataframe\">\n",
       "  <thead>\n",
       "    <tr style=\"text-align: right;\">\n",
       "      <th></th>\n",
       "      <th>Unnamed: 0</th>\n",
       "      <th>pdf_file_name</th>\n",
       "      <th>pub_date</th>\n",
       "      <th>publication_id</th>\n",
       "      <th>text_file_name</th>\n",
       "      <th>title</th>\n",
       "      <th>unique_identifier</th>\n",
       "    </tr>\n",
       "  </thead>\n",
       "  <tbody>\n",
       "    <tr>\n",
       "      <th>0</th>\n",
       "      <td>0</td>\n",
       "      <td>102.pdf</td>\n",
       "      <td>1969-01-01</td>\n",
       "      <td>102</td>\n",
       "      <td>102.txt</td>\n",
       "      <td>How does P2P lending fit into the consumer cre...</td>\n",
       "      <td>bbk-1</td>\n",
       "    </tr>\n",
       "    <tr>\n",
       "      <th>1</th>\n",
       "      <td>1</td>\n",
       "      <td>103.pdf</td>\n",
       "      <td>1969-01-01</td>\n",
       "      <td>103</td>\n",
       "      <td>103.txt</td>\n",
       "      <td>Moral Suasion in Regional Government Debt Markets</td>\n",
       "      <td>bbk-2</td>\n",
       "    </tr>\n",
       "    <tr>\n",
       "      <th>2</th>\n",
       "      <td>2</td>\n",
       "      <td>104.pdf</td>\n",
       "      <td>1969-01-01</td>\n",
       "      <td>104</td>\n",
       "      <td>104.txt</td>\n",
       "      <td>International monetary policy spillovers throu...</td>\n",
       "      <td>bbk-3</td>\n",
       "    </tr>\n",
       "    <tr>\n",
       "      <th>3</th>\n",
       "      <td>3</td>\n",
       "      <td>106.pdf</td>\n",
       "      <td>1969-01-01</td>\n",
       "      <td>106</td>\n",
       "      <td>106.txt</td>\n",
       "      <td>Quantitative Easing, Portfolio Rebalancing and...</td>\n",
       "      <td>bbk-5</td>\n",
       "    </tr>\n",
       "    <tr>\n",
       "      <th>4</th>\n",
       "      <td>4</td>\n",
       "      <td>107.pdf</td>\n",
       "      <td>1969-01-01</td>\n",
       "      <td>107</td>\n",
       "      <td>107.txt</td>\n",
       "      <td>Asset Purchases, Bank Lending, and Security Ho...</td>\n",
       "      <td>bbk-6</td>\n",
       "    </tr>\n",
       "  </tbody>\n",
       "</table>\n",
       "</div>"
      ],
      "text/plain": [
       "  Unnamed: 0 pdf_file_name    pub_date publication_id text_file_name  \\\n",
       "0          0       102.pdf  1969-01-01            102        102.txt   \n",
       "1          1       103.pdf  1969-01-01            103        103.txt   \n",
       "2          2       104.pdf  1969-01-01            104        104.txt   \n",
       "3          3       106.pdf  1969-01-01            106        106.txt   \n",
       "4          4       107.pdf  1969-01-01            107        107.txt   \n",
       "\n",
       "                                               title unique_identifier  \n",
       "0  How does P2P lending fit into the consumer cre...             bbk-1  \n",
       "1  Moral Suasion in Regional Government Debt Markets             bbk-2  \n",
       "2  International monetary policy spillovers throu...             bbk-3  \n",
       "3  Quantitative Easing, Portfolio Rebalancing and...             bbk-5  \n",
       "4  Asset Purchases, Bank Lending, and Security Ho...             bbk-6  "
      ]
     },
     "execution_count": 44,
     "metadata": {},
     "output_type": "execute_result"
    }
   ],
   "source": [
    "alldata = pd.read_csv('data/allPub_doi.csv', dtype=object)\n",
    "alldata.head()"
   ]
  },
  {
   "cell_type": "code",
   "execution_count": 45,
   "metadata": {},
   "outputs": [
    {
     "data": {
      "text/html": [
       "<div>\n",
       "<style scoped>\n",
       "    .dataframe tbody tr th:only-of-type {\n",
       "        vertical-align: middle;\n",
       "    }\n",
       "\n",
       "    .dataframe tbody tr th {\n",
       "        vertical-align: top;\n",
       "    }\n",
       "\n",
       "    .dataframe thead th {\n",
       "        text-align: right;\n",
       "    }\n",
       "</style>\n",
       "<table border=\"1\" class=\"dataframe\">\n",
       "  <thead>\n",
       "    <tr style=\"text-align: right;\">\n",
       "      <th></th>\n",
       "      <th>PaperId</th>\n",
       "      <th>publication_id</th>\n",
       "      <th>FieldOfStudyId</th>\n",
       "      <th>NormalizedName</th>\n",
       "      <th>PaperCount</th>\n",
       "      <th>pub_date</th>\n",
       "      <th>title</th>\n",
       "      <th>Doi</th>\n",
       "    </tr>\n",
       "  </thead>\n",
       "  <tbody>\n",
       "    <tr>\n",
       "      <th>0</th>\n",
       "      <td>2137918531</td>\n",
       "      <td>1064</td>\n",
       "      <td>156957248</td>\n",
       "      <td>odds ratio</td>\n",
       "      <td>170515</td>\n",
       "      <td>2006-01-01</td>\n",
       "      <td>Maternal depressive symptoms at 2 to 4 months ...</td>\n",
       "      <td>10.1001/archpedi.160.3.279</td>\n",
       "    </tr>\n",
       "    <tr>\n",
       "      <th>1</th>\n",
       "      <td>2137918531</td>\n",
       "      <td>1064</td>\n",
       "      <td>71924100</td>\n",
       "      <td>medicine</td>\n",
       "      <td>27411731</td>\n",
       "      <td>2006-01-01</td>\n",
       "      <td>Maternal depressive symptoms at 2 to 4 months ...</td>\n",
       "      <td>10.1001/archpedi.160.3.279</td>\n",
       "    </tr>\n",
       "    <tr>\n",
       "      <th>2</th>\n",
       "      <td>2137918531</td>\n",
       "      <td>1064</td>\n",
       "      <td>143095724</td>\n",
       "      <td>odds</td>\n",
       "      <td>36791</td>\n",
       "      <td>2006-01-01</td>\n",
       "      <td>Maternal depressive symptoms at 2 to 4 months ...</td>\n",
       "      <td>10.1001/archpedi.160.3.279</td>\n",
       "    </tr>\n",
       "    <tr>\n",
       "      <th>3</th>\n",
       "      <td>2137918531</td>\n",
       "      <td>1064</td>\n",
       "      <td>2778564845</td>\n",
       "      <td>center for epidemiologic studies depression scale</td>\n",
       "      <td>2199</td>\n",
       "      <td>2006-01-01</td>\n",
       "      <td>Maternal depressive symptoms at 2 to 4 months ...</td>\n",
       "      <td>10.1001/archpedi.160.3.279</td>\n",
       "    </tr>\n",
       "    <tr>\n",
       "      <th>4</th>\n",
       "      <td>2137918531</td>\n",
       "      <td>1064</td>\n",
       "      <td>109260823</td>\n",
       "      <td>child development</td>\n",
       "      <td>48098</td>\n",
       "      <td>2006-01-01</td>\n",
       "      <td>Maternal depressive symptoms at 2 to 4 months ...</td>\n",
       "      <td>10.1001/archpedi.160.3.279</td>\n",
       "    </tr>\n",
       "    <tr>\n",
       "      <th>5</th>\n",
       "      <td>2137918531</td>\n",
       "      <td>1064</td>\n",
       "      <td>107130276</td>\n",
       "      <td>epidemiology</td>\n",
       "      <td>409909</td>\n",
       "      <td>2006-01-01</td>\n",
       "      <td>Maternal depressive symptoms at 2 to 4 months ...</td>\n",
       "      <td>10.1001/archpedi.160.3.279</td>\n",
       "    </tr>\n",
       "    <tr>\n",
       "      <th>6</th>\n",
       "      <td>2137918531</td>\n",
       "      <td>1064</td>\n",
       "      <td>2776283161</td>\n",
       "      <td>breastfeeding</td>\n",
       "      <td>41433</td>\n",
       "      <td>2006-01-01</td>\n",
       "      <td>Maternal depressive symptoms at 2 to 4 months ...</td>\n",
       "      <td>10.1001/archpedi.160.3.279</td>\n",
       "    </tr>\n",
       "    <tr>\n",
       "      <th>7</th>\n",
       "      <td>2137918531</td>\n",
       "      <td>1064</td>\n",
       "      <td>187212893</td>\n",
       "      <td>pediatrics</td>\n",
       "      <td>1058722</td>\n",
       "      <td>2006-01-01</td>\n",
       "      <td>Maternal depressive symptoms at 2 to 4 months ...</td>\n",
       "      <td>10.1001/archpedi.160.3.279</td>\n",
       "    </tr>\n",
       "    <tr>\n",
       "      <th>8</th>\n",
       "      <td>2106231056</td>\n",
       "      <td>3061</td>\n",
       "      <td>2779407169</td>\n",
       "      <td>memory disorder</td>\n",
       "      <td>4967</td>\n",
       "      <td>2002-01-01</td>\n",
       "      <td>Cognitive functioning of long-term heavy canna...</td>\n",
       "      <td>10.1001/jama.287.9.1123</td>\n",
       "    </tr>\n",
       "    <tr>\n",
       "      <th>9</th>\n",
       "      <td>2106231056</td>\n",
       "      <td>3061</td>\n",
       "      <td>71924100</td>\n",
       "      <td>medicine</td>\n",
       "      <td>27411731</td>\n",
       "      <td>2002-01-01</td>\n",
       "      <td>Cognitive functioning of long-term heavy canna...</td>\n",
       "      <td>10.1001/jama.287.9.1123</td>\n",
       "    </tr>\n",
       "  </tbody>\n",
       "</table>\n",
       "</div>"
      ],
      "text/plain": [
       "      PaperId publication_id FieldOfStudyId  \\\n",
       "0  2137918531           1064      156957248   \n",
       "1  2137918531           1064       71924100   \n",
       "2  2137918531           1064      143095724   \n",
       "3  2137918531           1064     2778564845   \n",
       "4  2137918531           1064      109260823   \n",
       "5  2137918531           1064      107130276   \n",
       "6  2137918531           1064     2776283161   \n",
       "7  2137918531           1064      187212893   \n",
       "8  2106231056           3061     2779407169   \n",
       "9  2106231056           3061       71924100   \n",
       "\n",
       "                                      NormalizedName PaperCount    pub_date  \\\n",
       "0                                         odds ratio     170515  2006-01-01   \n",
       "1                                           medicine   27411731  2006-01-01   \n",
       "2                                               odds      36791  2006-01-01   \n",
       "3  center for epidemiologic studies depression scale       2199  2006-01-01   \n",
       "4                                  child development      48098  2006-01-01   \n",
       "5                                       epidemiology     409909  2006-01-01   \n",
       "6                                      breastfeeding      41433  2006-01-01   \n",
       "7                                         pediatrics    1058722  2006-01-01   \n",
       "8                                    memory disorder       4967  2002-01-01   \n",
       "9                                           medicine   27411731  2002-01-01   \n",
       "\n",
       "                                               title  \\\n",
       "0  Maternal depressive symptoms at 2 to 4 months ...   \n",
       "1  Maternal depressive symptoms at 2 to 4 months ...   \n",
       "2  Maternal depressive symptoms at 2 to 4 months ...   \n",
       "3  Maternal depressive symptoms at 2 to 4 months ...   \n",
       "4  Maternal depressive symptoms at 2 to 4 months ...   \n",
       "5  Maternal depressive symptoms at 2 to 4 months ...   \n",
       "6  Maternal depressive symptoms at 2 to 4 months ...   \n",
       "7  Maternal depressive symptoms at 2 to 4 months ...   \n",
       "8  Cognitive functioning of long-term heavy canna...   \n",
       "9  Cognitive functioning of long-term heavy canna...   \n",
       "\n",
       "                          Doi  \n",
       "0  10.1001/archpedi.160.3.279  \n",
       "1  10.1001/archpedi.160.3.279  \n",
       "2  10.1001/archpedi.160.3.279  \n",
       "3  10.1001/archpedi.160.3.279  \n",
       "4  10.1001/archpedi.160.3.279  \n",
       "5  10.1001/archpedi.160.3.279  \n",
       "6  10.1001/archpedi.160.3.279  \n",
       "7  10.1001/archpedi.160.3.279  \n",
       "8     10.1001/jama.287.9.1123  \n",
       "9     10.1001/jama.287.9.1123  "
      ]
     },
     "execution_count": 45,
     "metadata": {},
     "output_type": "execute_result"
    }
   ],
   "source": [
    "allFoS_PubID = pd.merge(allFoS_doi, alldata, left_on='Doi', right_on='unique_identifier', how='inner')[['PaperId','publication_id','FieldOfStudyId','NormalizedName','PaperCount','pub_date','title','Doi']]\n",
    "\n",
    "allFoS_PubID.head(10)"
   ]
  },
  {
   "cell_type": "code",
   "execution_count": 46,
   "metadata": {},
   "outputs": [],
   "source": [
    "#allFoS_PubID.to_csv('allFoS_PubID.csv')"
   ]
  },
  {
   "cell_type": "code",
   "execution_count": 47,
   "metadata": {},
   "outputs": [
    {
     "data": {
      "text/plain": [
       "14543"
      ]
     },
     "execution_count": 47,
     "metadata": {},
     "output_type": "execute_result"
    }
   ],
   "source": [
    "allFoS_PubID.PaperId.nunique()"
   ]
  },
  {
   "cell_type": "code",
   "execution_count": 48,
   "metadata": {},
   "outputs": [
    {
     "data": {
      "text/plain": [
       "14479"
      ]
     },
     "execution_count": 48,
     "metadata": {},
     "output_type": "execute_result"
    }
   ],
   "source": [
    "allFoS_PubID.publication_id.nunique()"
   ]
  },
  {
   "cell_type": "code",
   "execution_count": 49,
   "metadata": {},
   "outputs": [
    {
     "data": {
      "text/plain": [
       "15242"
      ]
     },
     "execution_count": 49,
     "metadata": {},
     "output_type": "execute_result"
    }
   ],
   "source": [
    "allFoS_PubID.FieldOfStudyId.nunique()"
   ]
  },
  {
   "cell_type": "code",
   "execution_count": 55,
   "metadata": {},
   "outputs": [
    {
     "data": {
      "text/plain": [
       "PaperId           0\n",
       "publication_id    0\n",
       "FieldOfStudyId    0\n",
       "NormalizedName    0\n",
       "PaperCount        0\n",
       "pub_date          0\n",
       "title             0\n",
       "Doi               0\n",
       "dtype: int64"
      ]
     },
     "execution_count": 55,
     "metadata": {},
     "output_type": "execute_result"
    }
   ],
   "source": [
    "allFoS_PubID.isnull().sum()"
   ]
  },
  {
   "cell_type": "code",
   "execution_count": null,
   "metadata": {},
   "outputs": [],
   "source": []
  }
 ],
 "metadata": {
  "kernelspec": {
   "display_name": "ADS",
   "language": "python",
   "name": "ads"
  },
  "language_info": {
   "codemirror_mode": {
    "name": "ipython",
    "version": 3
   },
   "file_extension": ".py",
   "mimetype": "text/x-python",
   "name": "python",
   "nbconvert_exporter": "python",
   "pygments_lexer": "ipython3",
   "version": "3.5.0"
  }
 },
 "nbformat": 4,
 "nbformat_minor": 2
}
