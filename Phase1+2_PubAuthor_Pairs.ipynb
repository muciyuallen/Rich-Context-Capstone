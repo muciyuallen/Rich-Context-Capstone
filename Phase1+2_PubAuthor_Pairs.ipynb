{
 "cells": [
  {
   "cell_type": "code",
   "execution_count": 1,
   "metadata": {},
   "outputs": [],
   "source": [
    "import networkx as nx\n",
    "import pandas as pd\n",
    "import numpy as np\n",
    "import seaborn as sns\n",
    "import matplotlib.pyplot as plt\n",
    "import time\n",
    "\n",
    "%matplotlib inline\n"
   ]
  },
  {
   "cell_type": "code",
   "execution_count": 3,
   "metadata": {},
   "outputs": [],
   "source": [
    "authors = pd.read_csv('data/Full_mag&phase1+2_Authors.csv', dtype=object )\n",
    "p1p2= pd.read_csv('data/p1p2Pub_doi.csv', dtype=object)\n",
    "doi = pd.read_csv('data/Full_mag&phase1+2_doi.csv', dtype=object)"
   ]
  },
  {
   "cell_type": "code",
   "execution_count": 4,
   "metadata": {},
   "outputs": [
    {
     "data": {
      "text/html": [
       "<div>\n",
       "<style scoped>\n",
       "    .dataframe tbody tr th:only-of-type {\n",
       "        vertical-align: middle;\n",
       "    }\n",
       "\n",
       "    .dataframe tbody tr th {\n",
       "        vertical-align: top;\n",
       "    }\n",
       "\n",
       "    .dataframe thead th {\n",
       "        text-align: right;\n",
       "    }\n",
       "</style>\n",
       "<table border=\"1\" class=\"dataframe\">\n",
       "  <thead>\n",
       "    <tr style=\"text-align: right;\">\n",
       "      <th></th>\n",
       "      <th>Unnamed: 0</th>\n",
       "      <th>pdf_file_name</th>\n",
       "      <th>pub_date</th>\n",
       "      <th>publication_id</th>\n",
       "      <th>text_file_name</th>\n",
       "      <th>title</th>\n",
       "      <th>unique_identifier</th>\n",
       "    </tr>\n",
       "  </thead>\n",
       "  <tbody>\n",
       "    <tr>\n",
       "      <th>0</th>\n",
       "      <td>0</td>\n",
       "      <td>102.pdf</td>\n",
       "      <td>1969-01-01</td>\n",
       "      <td>102</td>\n",
       "      <td>102.txt</td>\n",
       "      <td>How does P2P lending fit into the consumer cre...</td>\n",
       "      <td>bbk-1</td>\n",
       "    </tr>\n",
       "    <tr>\n",
       "      <th>1</th>\n",
       "      <td>1</td>\n",
       "      <td>103.pdf</td>\n",
       "      <td>1969-01-01</td>\n",
       "      <td>103</td>\n",
       "      <td>103.txt</td>\n",
       "      <td>Moral Suasion in Regional Government Debt Markets</td>\n",
       "      <td>bbk-2</td>\n",
       "    </tr>\n",
       "    <tr>\n",
       "      <th>2</th>\n",
       "      <td>2</td>\n",
       "      <td>104.pdf</td>\n",
       "      <td>1969-01-01</td>\n",
       "      <td>104</td>\n",
       "      <td>104.txt</td>\n",
       "      <td>International monetary policy spillovers throu...</td>\n",
       "      <td>bbk-3</td>\n",
       "    </tr>\n",
       "    <tr>\n",
       "      <th>3</th>\n",
       "      <td>3</td>\n",
       "      <td>106.pdf</td>\n",
       "      <td>1969-01-01</td>\n",
       "      <td>106</td>\n",
       "      <td>106.txt</td>\n",
       "      <td>Quantitative Easing, Portfolio Rebalancing and...</td>\n",
       "      <td>bbk-5</td>\n",
       "    </tr>\n",
       "    <tr>\n",
       "      <th>4</th>\n",
       "      <td>4</td>\n",
       "      <td>107.pdf</td>\n",
       "      <td>1969-01-01</td>\n",
       "      <td>107</td>\n",
       "      <td>107.txt</td>\n",
       "      <td>Asset Purchases, Bank Lending, and Security Ho...</td>\n",
       "      <td>bbk-6</td>\n",
       "    </tr>\n",
       "  </tbody>\n",
       "</table>\n",
       "</div>"
      ],
      "text/plain": [
       "  Unnamed: 0 pdf_file_name    pub_date publication_id text_file_name  \\\n",
       "0          0       102.pdf  1969-01-01            102        102.txt   \n",
       "1          1       103.pdf  1969-01-01            103        103.txt   \n",
       "2          2       104.pdf  1969-01-01            104        104.txt   \n",
       "3          3       106.pdf  1969-01-01            106        106.txt   \n",
       "4          4       107.pdf  1969-01-01            107        107.txt   \n",
       "\n",
       "                                               title unique_identifier  \n",
       "0  How does P2P lending fit into the consumer cre...             bbk-1  \n",
       "1  Moral Suasion in Regional Government Debt Markets             bbk-2  \n",
       "2  International monetary policy spillovers throu...             bbk-3  \n",
       "3  Quantitative Easing, Portfolio Rebalancing and...             bbk-5  \n",
       "4  Asset Purchases, Bank Lending, and Security Ho...             bbk-6  "
      ]
     },
     "execution_count": 4,
     "metadata": {},
     "output_type": "execute_result"
    }
   ],
   "source": [
    "p1p2.head()"
   ]
  },
  {
   "cell_type": "code",
   "execution_count": 5,
   "metadata": {},
   "outputs": [
    {
     "data": {
      "text/html": [
       "<div>\n",
       "<style scoped>\n",
       "    .dataframe tbody tr th:only-of-type {\n",
       "        vertical-align: middle;\n",
       "    }\n",
       "\n",
       "    .dataframe tbody tr th {\n",
       "        vertical-align: top;\n",
       "    }\n",
       "\n",
       "    .dataframe thead th {\n",
       "        text-align: right;\n",
       "    }\n",
       "</style>\n",
       "<table border=\"1\" class=\"dataframe\">\n",
       "  <thead>\n",
       "    <tr style=\"text-align: right;\">\n",
       "      <th></th>\n",
       "      <th>unique_identifier</th>\n",
       "      <th>PaperId</th>\n",
       "      <th>Doi</th>\n",
       "    </tr>\n",
       "  </thead>\n",
       "  <tbody>\n",
       "    <tr>\n",
       "      <th>0</th>\n",
       "      <td>10.1111/j.1471-6402.1996.tb00667.x</td>\n",
       "      <td>2139120848</td>\n",
       "      <td>10.1111/j.1471-6402.1996.tb00667.x</td>\n",
       "    </tr>\n",
       "    <tr>\n",
       "      <th>1</th>\n",
       "      <td>10.1177/0011128718779363</td>\n",
       "      <td>2807275068</td>\n",
       "      <td>10.1177/0011128718779363</td>\n",
       "    </tr>\n",
       "    <tr>\n",
       "      <th>2</th>\n",
       "      <td>10.1177/0014585816669937</td>\n",
       "      <td>2580410881</td>\n",
       "      <td>10.1177/0014585816669937</td>\n",
       "    </tr>\n",
       "    <tr>\n",
       "      <th>3</th>\n",
       "      <td>10.1177/0031512517720565</td>\n",
       "      <td>2737937147</td>\n",
       "      <td>10.1177/0031512517720565</td>\n",
       "    </tr>\n",
       "    <tr>\n",
       "      <th>4</th>\n",
       "      <td>10.1177/0093854806290239</td>\n",
       "      <td>1968333705</td>\n",
       "      <td>10.1177/0093854806290239</td>\n",
       "    </tr>\n",
       "  </tbody>\n",
       "</table>\n",
       "</div>"
      ],
      "text/plain": [
       "                    unique_identifier     PaperId  \\\n",
       "0  10.1111/j.1471-6402.1996.tb00667.x  2139120848   \n",
       "1            10.1177/0011128718779363  2807275068   \n",
       "2            10.1177/0014585816669937  2580410881   \n",
       "3            10.1177/0031512517720565  2737937147   \n",
       "4            10.1177/0093854806290239  1968333705   \n",
       "\n",
       "                                  Doi  \n",
       "0  10.1111/j.1471-6402.1996.tb00667.x  \n",
       "1            10.1177/0011128718779363  \n",
       "2            10.1177/0014585816669937  \n",
       "3            10.1177/0031512517720565  \n",
       "4            10.1177/0093854806290239  "
      ]
     },
     "execution_count": 5,
     "metadata": {},
     "output_type": "execute_result"
    }
   ],
   "source": [
    "doi.head()"
   ]
  },
  {
   "cell_type": "code",
   "execution_count": 15,
   "metadata": {},
   "outputs": [],
   "source": [
    "p1p2_id_doi = pd.merge(p1p2, doi, left_on='unique_identifier', right_on='Doi', how='inner')[['publication_id','PaperId','Doi']]"
   ]
  },
  {
   "cell_type": "code",
   "execution_count": 16,
   "metadata": {},
   "outputs": [
    {
     "data": {
      "text/html": [
       "<div>\n",
       "<style scoped>\n",
       "    .dataframe tbody tr th:only-of-type {\n",
       "        vertical-align: middle;\n",
       "    }\n",
       "\n",
       "    .dataframe tbody tr th {\n",
       "        vertical-align: top;\n",
       "    }\n",
       "\n",
       "    .dataframe thead th {\n",
       "        text-align: right;\n",
       "    }\n",
       "</style>\n",
       "<table border=\"1\" class=\"dataframe\">\n",
       "  <thead>\n",
       "    <tr style=\"text-align: right;\">\n",
       "      <th></th>\n",
       "      <th>publication_id</th>\n",
       "      <th>PaperId</th>\n",
       "      <th>Doi</th>\n",
       "    </tr>\n",
       "  </thead>\n",
       "  <tbody>\n",
       "    <tr>\n",
       "      <th>0</th>\n",
       "      <td>5713</td>\n",
       "      <td>1976087269</td>\n",
       "      <td>10.1177/00220345870660010201</td>\n",
       "    </tr>\n",
       "    <tr>\n",
       "      <th>1</th>\n",
       "      <td>5714</td>\n",
       "      <td>2139304321</td>\n",
       "      <td>10.1177/0095798499025001006</td>\n",
       "    </tr>\n",
       "    <tr>\n",
       "      <th>2</th>\n",
       "      <td>5715</td>\n",
       "      <td>2013907166</td>\n",
       "      <td>10.1177/1532673X9402200107</td>\n",
       "    </tr>\n",
       "    <tr>\n",
       "      <th>3</th>\n",
       "      <td>5716</td>\n",
       "      <td>1968587696</td>\n",
       "      <td>10.1177/002234337901600305</td>\n",
       "    </tr>\n",
       "    <tr>\n",
       "      <th>4</th>\n",
       "      <td>5717</td>\n",
       "      <td>2111197844</td>\n",
       "      <td>10.1177/0022343303040001207</td>\n",
       "    </tr>\n",
       "    <tr>\n",
       "      <th>5</th>\n",
       "      <td>5718</td>\n",
       "      <td>2072280052</td>\n",
       "      <td>10.1177/10780870022184462</td>\n",
       "    </tr>\n",
       "    <tr>\n",
       "      <th>6</th>\n",
       "      <td>5719</td>\n",
       "      <td>2132815484</td>\n",
       "      <td>10.1111/j.1467-9248.1977.tb01285.x</td>\n",
       "    </tr>\n",
       "    <tr>\n",
       "      <th>7</th>\n",
       "      <td>5720</td>\n",
       "      <td>1994027165</td>\n",
       "      <td>10.1177/019263659708159103</td>\n",
       "    </tr>\n",
       "    <tr>\n",
       "      <th>8</th>\n",
       "      <td>5721</td>\n",
       "      <td>2075730595</td>\n",
       "      <td>10.1177/1532673X9001800405</td>\n",
       "    </tr>\n",
       "    <tr>\n",
       "      <th>9</th>\n",
       "      <td>5722</td>\n",
       "      <td>1988840891</td>\n",
       "      <td>10.1177/1532673X9302100402</td>\n",
       "    </tr>\n",
       "  </tbody>\n",
       "</table>\n",
       "</div>"
      ],
      "text/plain": [
       "  publication_id     PaperId                                 Doi\n",
       "0           5713  1976087269        10.1177/00220345870660010201\n",
       "1           5714  2139304321         10.1177/0095798499025001006\n",
       "2           5715  2013907166          10.1177/1532673X9402200107\n",
       "3           5716  1968587696          10.1177/002234337901600305\n",
       "4           5717  2111197844         10.1177/0022343303040001207\n",
       "5           5718  2072280052           10.1177/10780870022184462\n",
       "6           5719  2132815484  10.1111/j.1467-9248.1977.tb01285.x\n",
       "7           5720  1994027165          10.1177/019263659708159103\n",
       "8           5721  2075730595          10.1177/1532673X9001800405\n",
       "9           5722  1988840891          10.1177/1532673X9302100402"
      ]
     },
     "execution_count": 16,
     "metadata": {},
     "output_type": "execute_result"
    }
   ],
   "source": [
    "p1p2_id_doi.head(10)"
   ]
  },
  {
   "cell_type": "code",
   "execution_count": 17,
   "metadata": {},
   "outputs": [
    {
     "data": {
      "text/html": [
       "<div>\n",
       "<style scoped>\n",
       "    .dataframe tbody tr th:only-of-type {\n",
       "        vertical-align: middle;\n",
       "    }\n",
       "\n",
       "    .dataframe tbody tr th {\n",
       "        vertical-align: top;\n",
       "    }\n",
       "\n",
       "    .dataframe thead th {\n",
       "        text-align: right;\n",
       "    }\n",
       "</style>\n",
       "<table border=\"1\" class=\"dataframe\">\n",
       "  <thead>\n",
       "    <tr style=\"text-align: right;\">\n",
       "      <th></th>\n",
       "      <th>PaperId</th>\n",
       "      <th>AuthorId</th>\n",
       "      <th>DisplayName</th>\n",
       "      <th>LastKnownAffiliationId</th>\n",
       "      <th>PaperCount</th>\n",
       "    </tr>\n",
       "  </thead>\n",
       "  <tbody>\n",
       "    <tr>\n",
       "      <th>0</th>\n",
       "      <td>2134502150</td>\n",
       "      <td>12527003</td>\n",
       "      <td>Joseph Glicksohn</td>\n",
       "      <td>13955877</td>\n",
       "      <td>140</td>\n",
       "    </tr>\n",
       "    <tr>\n",
       "      <th>1</th>\n",
       "      <td>2119979295</td>\n",
       "      <td>17146606</td>\n",
       "      <td>Badassa Tadasse</td>\n",
       "      <td>130238516</td>\n",
       "      <td>5</td>\n",
       "    </tr>\n",
       "    <tr>\n",
       "      <th>2</th>\n",
       "      <td>2768044062</td>\n",
       "      <td>35812235</td>\n",
       "      <td>Jonathan A. Plucker</td>\n",
       "      <td>145311948</td>\n",
       "      <td>215</td>\n",
       "    </tr>\n",
       "    <tr>\n",
       "      <th>3</th>\n",
       "      <td>2464944250</td>\n",
       "      <td>55684669</td>\n",
       "      <td>Saeed Pirouzpanah</td>\n",
       "      <td>163205636</td>\n",
       "      <td>27</td>\n",
       "    </tr>\n",
       "    <tr>\n",
       "      <th>4</th>\n",
       "      <td>2216517794</td>\n",
       "      <td>92297013</td>\n",
       "      <td>David J. Pauleen</td>\n",
       "      <td>51158804</td>\n",
       "      <td>105</td>\n",
       "    </tr>\n",
       "  </tbody>\n",
       "</table>\n",
       "</div>"
      ],
      "text/plain": [
       "      PaperId  AuthorId          DisplayName LastKnownAffiliationId PaperCount\n",
       "0  2134502150  12527003     Joseph Glicksohn               13955877        140\n",
       "1  2119979295  17146606      Badassa Tadasse              130238516          5\n",
       "2  2768044062  35812235  Jonathan A. Plucker              145311948        215\n",
       "3  2464944250  55684669    Saeed Pirouzpanah              163205636         27\n",
       "4  2216517794  92297013     David J. Pauleen               51158804        105"
      ]
     },
     "execution_count": 17,
     "metadata": {},
     "output_type": "execute_result"
    }
   ],
   "source": [
    "authors.head()"
   ]
  },
  {
   "cell_type": "code",
   "execution_count": 19,
   "metadata": {},
   "outputs": [],
   "source": [
    "p1p2_PubAuthor_pairs = pd.merge(p1p2_id_doi, authors, left_on='PaperId', right_on='PaperId', how='inner')[['publication_id','AuthorId','Doi']]"
   ]
  },
  {
   "cell_type": "code",
   "execution_count": 20,
   "metadata": {},
   "outputs": [
    {
     "data": {
      "text/html": [
       "<div>\n",
       "<style scoped>\n",
       "    .dataframe tbody tr th:only-of-type {\n",
       "        vertical-align: middle;\n",
       "    }\n",
       "\n",
       "    .dataframe tbody tr th {\n",
       "        vertical-align: top;\n",
       "    }\n",
       "\n",
       "    .dataframe thead th {\n",
       "        text-align: right;\n",
       "    }\n",
       "</style>\n",
       "<table border=\"1\" class=\"dataframe\">\n",
       "  <thead>\n",
       "    <tr style=\"text-align: right;\">\n",
       "      <th></th>\n",
       "      <th>publication_id</th>\n",
       "      <th>AuthorId</th>\n",
       "      <th>Doi</th>\n",
       "    </tr>\n",
       "  </thead>\n",
       "  <tbody>\n",
       "    <tr>\n",
       "      <th>0</th>\n",
       "      <td>5713</td>\n",
       "      <td>1920061433</td>\n",
       "      <td>10.1177/00220345870660010201</td>\n",
       "    </tr>\n",
       "    <tr>\n",
       "      <th>1</th>\n",
       "      <td>5713</td>\n",
       "      <td>2569351966</td>\n",
       "      <td>10.1177/00220345870660010201</td>\n",
       "    </tr>\n",
       "    <tr>\n",
       "      <th>2</th>\n",
       "      <td>5714</td>\n",
       "      <td>2127211568</td>\n",
       "      <td>10.1177/0095798499025001006</td>\n",
       "    </tr>\n",
       "    <tr>\n",
       "      <th>3</th>\n",
       "      <td>5715</td>\n",
       "      <td>2721305972</td>\n",
       "      <td>10.1177/1532673X9402200107</td>\n",
       "    </tr>\n",
       "    <tr>\n",
       "      <th>4</th>\n",
       "      <td>5716</td>\n",
       "      <td>2793352098</td>\n",
       "      <td>10.1177/002234337901600305</td>\n",
       "    </tr>\n",
       "    <tr>\n",
       "      <th>5</th>\n",
       "      <td>5716</td>\n",
       "      <td>2705789217</td>\n",
       "      <td>10.1177/002234337901600305</td>\n",
       "    </tr>\n",
       "    <tr>\n",
       "      <th>6</th>\n",
       "      <td>5717</td>\n",
       "      <td>2628801028</td>\n",
       "      <td>10.1177/0022343303040001207</td>\n",
       "    </tr>\n",
       "    <tr>\n",
       "      <th>7</th>\n",
       "      <td>5718</td>\n",
       "      <td>2005827806</td>\n",
       "      <td>10.1177/10780870022184462</td>\n",
       "    </tr>\n",
       "    <tr>\n",
       "      <th>8</th>\n",
       "      <td>5719</td>\n",
       "      <td>2616973580</td>\n",
       "      <td>10.1111/j.1467-9248.1977.tb01285.x</td>\n",
       "    </tr>\n",
       "    <tr>\n",
       "      <th>9</th>\n",
       "      <td>5719</td>\n",
       "      <td>1992900025</td>\n",
       "      <td>10.1111/j.1467-9248.1977.tb01285.x</td>\n",
       "    </tr>\n",
       "  </tbody>\n",
       "</table>\n",
       "</div>"
      ],
      "text/plain": [
       "  publication_id    AuthorId                                 Doi\n",
       "0           5713  1920061433        10.1177/00220345870660010201\n",
       "1           5713  2569351966        10.1177/00220345870660010201\n",
       "2           5714  2127211568         10.1177/0095798499025001006\n",
       "3           5715  2721305972          10.1177/1532673X9402200107\n",
       "4           5716  2793352098          10.1177/002234337901600305\n",
       "5           5716  2705789217          10.1177/002234337901600305\n",
       "6           5717  2628801028         10.1177/0022343303040001207\n",
       "7           5718  2005827806           10.1177/10780870022184462\n",
       "8           5719  2616973580  10.1111/j.1467-9248.1977.tb01285.x\n",
       "9           5719  1992900025  10.1111/j.1467-9248.1977.tb01285.x"
      ]
     },
     "execution_count": 20,
     "metadata": {},
     "output_type": "execute_result"
    }
   ],
   "source": [
    "p1p2_PubAuthor_pairs.head(10)"
   ]
  },
  {
   "cell_type": "code",
   "execution_count": 21,
   "metadata": {},
   "outputs": [],
   "source": [
    "#p1p2_PubAuthor_pairs.to_csv('p1p2_PubAuthor_pairs.csv')"
   ]
  },
  {
   "cell_type": "code",
   "execution_count": 22,
   "metadata": {},
   "outputs": [
    {
     "data": {
      "text/plain": [
       "26070"
      ]
     },
     "execution_count": 22,
     "metadata": {},
     "output_type": "execute_result"
    }
   ],
   "source": [
    "p1p2_PubAuthor_pairs.AuthorId.nunique()"
   ]
  },
  {
   "cell_type": "code",
   "execution_count": 23,
   "metadata": {},
   "outputs": [
    {
     "data": {
      "text/plain": [
       "9708"
      ]
     },
     "execution_count": 23,
     "metadata": {},
     "output_type": "execute_result"
    }
   ],
   "source": [
    "p1p2_PubAuthor_pairs.publication_id.nunique()"
   ]
  },
  {
   "cell_type": "code",
   "execution_count": 25,
   "metadata": {},
   "outputs": [
    {
     "data": {
      "text/plain": [
       "9708"
      ]
     },
     "execution_count": 25,
     "metadata": {},
     "output_type": "execute_result"
    }
   ],
   "source": [
    "p1p2_PubAuthor_pairs.Doi.nunique()"
   ]
  },
  {
   "cell_type": "code",
   "execution_count": null,
   "metadata": {},
   "outputs": [],
   "source": []
  }
 ],
 "metadata": {
  "kernelspec": {
   "display_name": "ADS",
   "language": "python",
   "name": "ads"
  },
  "language_info": {
   "codemirror_mode": {
    "name": "ipython",
    "version": 3
   },
   "file_extension": ".py",
   "mimetype": "text/x-python",
   "name": "python",
   "nbconvert_exporter": "python",
   "pygments_lexer": "ipython3",
   "version": "3.5.0"
  }
 },
 "nbformat": 4,
 "nbformat_minor": 2
}
