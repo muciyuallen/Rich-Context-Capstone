{
 "cells": [
  {
   "cell_type": "markdown",
   "metadata": {},
   "source": [
    "### Network Builder\n",
    "This notebook is a step by step in building a heterogeneous graph for our dataset recommendation system. The step by step is in effort to make our graph more well connected, which will be as follows:\n",
    "1. Load train_test data\n",
    "2. Load Phase 1 & Phase 2 competition output data\n",
    "3. Combine data from step 1 & step 2\n",
    "4. Generate initial graph of `[publication, dataset]` entities\n",
    "5. Extract & Integrate `Subject Terms` Entity\n",
    "6. Load & Integrate `Author` Entity\n",
    "7. Load & Integrate Publication Similarity Edges"
   ]
  },
  {
   "cell_type": "code",
   "execution_count": 458,
   "metadata": {},
   "outputs": [],
   "source": [
    "import json \n",
    "import itertools\n",
    "import pandas as pd\n",
    "import seaborn as sns\n",
    "import networkx as nx\n",
    "from networkx.readwrite import json_graph\n",
    "\n",
    "def writeNX(filename, g):\n",
    "    network_json = json_graph.node_link_data(g)\n",
    "    json.dump(network_json, open(filename, 'w'), indent=2)\n",
    "def readNX(filename):\n",
    "    with open(filename) as f:\n",
    "        js_graph = json.load(f)\n",
    "    return json_graph.node_link_graph(js_graph)\n",
    "\n",
    "%matplotlib inline"
   ]
  },
  {
   "cell_type": "markdown",
   "metadata": {},
   "source": [
    "# 1. Load train_test data"
   ]
  },
  {
   "cell_type": "code",
   "execution_count": 2,
   "metadata": {},
   "outputs": [],
   "source": [
    "tt_pub = pd.read_json('data/train_test/publications.json')\n",
    "tt_data = pd.read_json('data/train_test/data_sets.json')\n",
    "tt_cit = pd.read_json('data/train_test/data_set_citations.json')\n",
    "tt_cit['source'] = 'train_test'"
   ]
  },
  {
   "cell_type": "code",
   "execution_count": 3,
   "metadata": {},
   "outputs": [
    {
     "name": "stdout",
     "output_type": "stream",
     "text": [
      "Ratio of publications linked 0.5\n",
      "Ratio of dataset linked 0.09934286818708929\n"
     ]
    }
   ],
   "source": [
    "print('Ratio of publications linked', tt_cit.publication_id.nunique()/tt_pub.shape[0])\n",
    "print('Ratio of dataset linked', tt_cit.data_set_id.nunique()/tt_data.shape[0])"
   ]
  },
  {
   "cell_type": "markdown",
   "metadata": {},
   "source": [
    "# 2. Load Phase 1 + Phase 2 data"
   ]
  },
  {
   "cell_type": "code",
   "execution_count": 4,
   "metadata": {},
   "outputs": [],
   "source": [
    "p1_pub = pd.read_json('data/phase1_holdout_publications.json')\n",
    "p2_pub = pd.read_json('data/phase2_holdout_publications.json')\n",
    "\n",
    "p1_cit = pd.read_json('data/competition-output/phase1-final/rcc-03/raw_results/data_set_citations.json')\n",
    "p1_cit['source'] = 'phase1'\n",
    "p2_cit = pd.read_json('data/competition-output/phase2-final/rcc-05/raw_results/holdout/output/data_set_citations.json')\n",
    "p2_cit['source'] = 'phase2'\n",
    "p2_cit_wc =  pd.read_json('data/competition-output/phase2-final/rcc-05/raw_results/wc_holdout/output/data_set_citations.json')\n",
    "p2_cit_wc['source'] = 'phase2_wc'"
   ]
  },
  {
   "cell_type": "markdown",
   "metadata": {},
   "source": [
    "# 3. Combine data from step 1 & 2"
   ]
  },
  {
   "cell_type": "code",
   "execution_count": 605,
   "metadata": {},
   "outputs": [
    {
     "name": "stdout",
     "output_type": "stream",
     "text": [
      "2500 898 1246 295\n"
     ]
    }
   ],
   "source": [
    "print(len(set(tt_cit.publication_id)),\n",
    "len(set(p1_cit.publication_id)),\n",
    "len(set(p2_cit.publication_id)),\n",
    "len(set(p2_cit_wc.publication_id)))"
   ]
  },
  {
   "cell_type": "code",
   "execution_count": null,
   "metadata": {},
   "outputs": [],
   "source": []
  },
  {
   "cell_type": "code",
   "execution_count": 5,
   "metadata": {},
   "outputs": [
    {
     "name": "stdout",
     "output_type": "stream",
     "text": [
      "Publications 15001\n",
      "Datasets 10348\n",
      "Citations 12457\n",
      "\tPub-Citation 4290\n",
      "\tData-Citation 1646\n"
     ]
    }
   ],
   "source": [
    "all_pubs = pd.concat([tt_pub, p1_pub, p2_pub]).reset_index(drop=True)\n",
    "print(\"Publications\", all_pubs.shape[0])\n",
    "all_data = tt_data\n",
    "print('Datasets', all_data.shape[0])\n",
    "\n",
    "all_cit = pd.concat([tt_cit[['publication_id', 'data_set_id', 'score', 'source']], \n",
    "                     p1_cit[['publication_id', 'data_set_id', 'score', 'source']], \n",
    "                     p2_cit[['publication_id', 'data_set_id', 'score', 'source']],\n",
    "                     p2_cit_wc[['publication_id', 'data_set_id', 'score', 'source']]]).reset_index(drop=True)\n",
    "all_cit['pub_name'] = ['pub_'+str(i) for i in all_cit.publication_id] \n",
    "all_cit['data_name'] = ['data_'+str(i) for i in all_cit.data_set_id] \n",
    "\n",
    "print(\"Citations\", all_cit.shape[0])\n",
    "print(\"\\tPub-Citation\", len(set(all_cit.publication_id)))\n",
    "print(\"\\tData-Citation\", len(set(all_cit.data_set_id)))"
   ]
  },
  {
   "cell_type": "markdown",
   "metadata": {},
   "source": [
    "# 4. Generate [dataset, publication] graph"
   ]
  },
  {
   "cell_type": "code",
   "execution_count": 472,
   "metadata": {},
   "outputs": [
    {
     "name": "stdout",
     "output_type": "stream",
     "text": [
      "Nodes 25367 \n",
      "Edges 11138\n"
     ]
    }
   ],
   "source": [
    "pub_nodes = ['pub_'+str(i) for i in all_pubs.publication_id]\n",
    "data_nodes = ['data_'+str(i) for i in all_data.data_set_id]\n",
    "\n",
    "pub_edges = [(x,y) for x,y in zip(all_cit.pub_name, all_cit.data_name)]\n",
    "\n",
    "\n",
    "def startG():\n",
    "    g = nx.Graph()\n",
    "    g.add_nodes_from(pub_nodes+data_nodes)\n",
    "    g.add_edges_from(pub_edges)\n",
    "    return g\n",
    "    \n",
    "G = startG()\n",
    "\n",
    "print(\"Nodes\", G.number_of_nodes(), \"\\nEdges\", G.number_of_edges())"
   ]
  },
  {
   "cell_type": "markdown",
   "metadata": {},
   "source": [
    "# 5. Extract & Integrate Subject Terms"
   ]
  },
  {
   "cell_type": "code",
   "execution_count": 473,
   "metadata": {},
   "outputs": [
    {
     "name": "stdout",
     "output_type": "stream",
     "text": [
      "Nodes 34083 \n",
      "Edges 212811\n"
     ]
    }
   ],
   "source": [
    "all_sub = [i.split(',') for i in all_data.subjects]\n",
    "all_sub = set(list(itertools.chain(*all_sub)))\n",
    "\n",
    "sub_edges = [('data_'+str(x),sub) for x,y in zip(all_data.data_set_id, all_data.subjects) for sub in y.split(',')]\n",
    "\n",
    "def addST(g, edges=sub_edges):\n",
    "    g.add_nodes_from(all_sub)\n",
    "    g.add_edges_from(edges)\n",
    "\n",
    "addST(G, sub_edges)\n",
    "print(\"Nodes\", G.number_of_nodes(), \"\\nEdges\", G.number_of_edges())"
   ]
  },
  {
   "cell_type": "code",
   "execution_count": 474,
   "metadata": {},
   "outputs": [
    {
     "data": {
      "image/png": "[encoded data removed]",
      "text/plain": [
       "<Figure size 432x288 with 1 Axes>"
      ]
     },
     "metadata": {
      "needs_background": "light"
     },
     "output_type": "display_data"
    }
   ],
   "source": [
    "tmp = pd.DataFrame([['data_'+str(x),sub] for x,y in zip(all_data.data_set_id, all_data.subjects) for sub in y.split(',')], columns = ['data_name', 'sub'])\n",
    "ax = sns.boxplot(tmp.groupby('data_name').size())\n",
    "ax = ax.set_title('Number of subject terms per dataset node')"
   ]
  },
  {
   "cell_type": "markdown",
   "metadata": {},
   "source": [
    "# 6. Load & Integrate Author"
   ]
  },
  {
   "cell_type": "code",
   "execution_count": 475,
   "metadata": {},
   "outputs": [],
   "source": [
    "all_auth = pd.read_csv('data/p1p2_PubAuthor_pairs.csv')[['publication_id', 'AuthorId']]\n",
    "all_auth = pd.concat([all_auth, pd.read_csv('data/PubAuthor_pairs.csv')[['publication_id', 'AuthorId']]]).reset_index(drop=True)\n",
    "# display(all_auth[all_auth.publication_id == 5698], all_pubs[all_pubs.publication_id==5698])"
   ]
  },
  {
   "cell_type": "code",
   "execution_count": 476,
   "metadata": {},
   "outputs": [
    {
     "name": "stdout",
     "output_type": "stream",
     "text": [
      "Nodes 73438 \n",
      "Edges 260720\n"
     ]
    }
   ],
   "source": [
    "auth_nodes = ['auth_'+str(i) for i in list(set(all_auth.AuthorId))]\n",
    "auth_edges = [('pub_'+str(x),'auth_'+str(y)) for x,y in zip(all_auth.publication_id, all_auth.AuthorId)]\n",
    "\n",
    "def addAuth(g):\n",
    "    g.add_nodes_from(auth_nodes)\n",
    "    g.add_edges_from(auth_edges)\n",
    "\n",
    "addAuth(G)\n",
    "print(\"Nodes\", G.number_of_nodes(), \"\\nEdges\", G.number_of_edges())"
   ]
  },
  {
   "cell_type": "markdown",
   "metadata": {},
   "source": [
    "# 7. Load & Integrate Publication Text Similarity Edges"
   ]
  },
  {
   "cell_type": "code",
   "execution_count": 465,
   "metadata": {},
   "outputs": [],
   "source": [
    "all_sim = pd.read_csv('data/doc_sim.csv')[['Doc1', 'Doc2', 'Similarity']]"
   ]
  },
  {
   "cell_type": "code",
   "execution_count": 477,
   "metadata": {},
   "outputs": [
    {
     "name": "stdout",
     "output_type": "stream",
     "text": [
      "Nodes 73438 \n",
      "Edges 281084\n",
      "\n",
      "Ratio of newly connected publications:  0.24231717885474302\n"
     ]
    }
   ],
   "source": [
    "top_sim = all_sim[all_sim.Similarity >= 0.95]\n",
    "\n",
    "sim_edges = [(x,y) for x,y in zip(top_sim.Doc1, top_sim.Doc2)]\n",
    "\n",
    "def addPubSim(g):\n",
    "    g.add_edges_from(sim_edges)\n",
    "    \n",
    "addPubSim(G)\n",
    "    \n",
    "print(\"Nodes\", G.number_of_nodes(), \"\\nEdges\", G.number_of_edges())\n",
    "print(\"\\nRatio of newly connected publications: \", len(set(top_sim.Doc1.append(top_sim.Doc2)))/all_pubs.shape[0])"
   ]
  },
  {
   "cell_type": "markdown",
   "metadata": {},
   "source": [
    "# 8. Contract Similar Dataset Titles"
   ]
  },
  {
   "cell_type": "code",
   "execution_count": 379,
   "metadata": {},
   "outputs": [
    {
     "name": "stderr",
     "output_type": "stream",
     "text": [
      "[nltk_data] Downloading package punkt to /nfshome/tn1050/nltk_data...\n",
      "[nltk_data]   Package punkt is already up-to-date!\n"
     ]
    }
   ],
   "source": [
    "import re\n",
    "import nltk\n",
    "from nltk.tokenize import word_tokenize\n",
    "nltk.download('punkt')\n",
    "\n",
    "roman = re.compile(\"\"\"\n",
    "    ^                   # beginning of string\n",
    "    M{0,4}              # thousands - 0 to 4 M's\n",
    "    (CM|CD|D?C{0,3})    # hundreds - 900 (CM), 400 (CD), 0-300 (0 to 3 C's),\n",
    "                        #            or 500-800 (D, followed by 0 to 3 C's)\n",
    "    (XC|XL|L?X{0,3})    # tens - 90 (XC), 40 (XL), 0-30 (0 to 3 X's),\n",
    "                        #        or 50-80 (L, followed by 0 to 3 X's)\n",
    "    (IX|IV|V?I{0,3})    # ones - 9 (IX), 4 (IV), 0-3 (0 to 3 I's),\n",
    "                        #        or 5-8 (V, followed by 0 to 3 I's)\n",
    "    $                   # end of string\n",
    "    \"\"\" ,re.VERBOSE)\n",
    "def remove_roman(sent):\n",
    "    sent = word_tokenize(sent)\n",
    "    sent = [i for i in sent if not roman.search(i)]\n",
    "    return \" \".join(sent)\n",
    "def simplify_title(s):\n",
    "    s = remove_roman(s)\n",
    "    s = s.lower()\n",
    "    s = re.sub(\"[^a-zA-Z]+\", \"\", s)\n",
    "    return s"
   ]
  },
  {
   "cell_type": "code",
   "execution_count": 426,
   "metadata": {},
   "outputs": [
    {
     "name": "stdout",
     "output_type": "stream",
     "text": [
      "Contracting nodes will reduce to: 0.5875531503672207\n"
     ]
    }
   ],
   "source": [
    "df_datasets = all_data.copy()\n",
    "df_datasets['data_name'] = ['data_'+str(i) for i in df_datasets.data_set_id]\n",
    "df_datasets['title_unique'] = [simplify_title(i) for i in df_datasets.title]\n",
    "\n",
    "titles = [simplify_title(i) for i in all_data.title]\n",
    "\n",
    "df_titles = pd.DataFrame(set(titles)).reset_index()\n",
    "df_titles.columns = ['title_id','title_unique']\n",
    "df_titles.title_id = ['title_'+str(i) for i in df_titles.index]\n",
    "\n",
    "print('Contracting nodes will reduce to:',df_titles.shape[0]/all_data.shape[0])\n",
    "\n",
    "df_datasets = pd.merge(df_datasets, df_titles, on='title_unique', how='left')\n",
    "\n",
    "contract = df_datasets.groupby('title_id')['data_name'].apply(list).reset_index()\n",
    "contract['focal'] = [i[0] for i in contract.data_name]\n",
    "contract['count'] = [len(i) for i in contract.data_name]\n",
    "# contract = contract[contract['count'] > 1].reset_index(drop=True)\n",
    "\n",
    "df_datasets = pd.merge(df_datasets, contract[['title_id', 'focal']], on='title_id', how='left')"
   ]
  },
  {
   "cell_type": "code",
   "execution_count": 480,
   "metadata": {},
   "outputs": [],
   "source": [
    "### Contraction will take hours! Don't run unless necessary\n",
    "# G8 = G.copy()\n",
    "# for idx,row in contract.iterrows():\n",
    "#     print(idx, end='|')\n",
    "#     for i in row.data_name[1:]:\n",
    "#         G8 = nx.contracted_nodes(G8,row.focal, i)\n",
    "# writeNX('data/network_v2.1.json', G8)\n",
    "\n",
    "### Faster Route: Add from the beginning \n",
    "# df_datasets = pd.read_csv('data/df_datasets.csv')\n",
    "\n",
    "focals = dict(zip(df_datasets.data_name,df_datasets.focal))\n",
    "\n",
    "new_edges = [(x,focals[y]) for x,y in pub_edges]\n",
    "new_data_nodes = list(set([focals[i] for i in data_nodes]))\n",
    "new_sub_edges = [(focals[x], y) for x,y in sub_edges]\n",
    "\n",
    "def startG8():\n",
    "    g = nx.Graph()\n",
    "    g.add_nodes_from(pub_nodes+new_data_nodes)\n",
    "    g.add_edges_from(new_edges)\n",
    "    return g\n",
    "\n",
    "G_alt = startG8()\n",
    "addST(G_alt, new_sub_edges)\n",
    "addAuth(G_alt)\n",
    "addPubSim(G_alt)\n",
    "addFoS(G_alt)"
   ]
  },
  {
   "cell_type": "code",
   "execution_count": 345,
   "metadata": {},
   "outputs": [
    {
     "name": "stdout",
     "output_type": "stream",
     "text": [
      "Nodes 69170 \n",
      "Edges 206010\n",
      "['data_7003', 'data_7059', 'data_7122']\n"
     ]
    },
    {
     "data": {
      "text/plain": [
       "['Census of Population and Housing, 2000 [United States]: Summary File 2, West Virginia',\n",
       " 'Census of Population and Housing, 2000 [United States]: Summary File 3, West Virginia',\n",
       " 'Census of Population and Housing, 2000 [United States]: Summary File 4, West Virginia']"
      ]
     },
     "execution_count": 345,
     "metadata": {},
     "output_type": "execute_result"
    }
   ],
   "source": [
    "print(\"Nodes\", G_alt.number_of_nodes(), \"\\nEdges\", G8.number_of_edges())\n",
    "tmp = contract[contract.title_id=='title_102'].data_name.values[0]\n",
    "print(tmp)\n",
    "[i for i in df_datasets[df_datasets.data_name.isin(tmp)].title]"
   ]
  },
  {
   "cell_type": "markdown",
   "metadata": {},
   "source": [
    "# 9. Load & Integrate Field of Study Entity"
   ]
  },
  {
   "cell_type": "code",
   "execution_count": 222,
   "metadata": {},
   "outputs": [],
   "source": [
    "all_fos = pd.read_csv('data/allFoS_PubID.csv', dtype=object)\n",
    "all_fos['pub_name'] = ['pub_'+str(i) for i in all_fos.publication_id]"
   ]
  },
  {
   "cell_type": "code",
   "execution_count": 615,
   "metadata": {},
   "outputs": [
    {
     "data": {
      "text/html": [
       "<div>\n",
       "<style scoped>\n",
       "    .dataframe tbody tr th:only-of-type {\n",
       "        vertical-align: middle;\n",
       "    }\n",
       "\n",
       "    .dataframe tbody tr th {\n",
       "        vertical-align: top;\n",
       "    }\n",
       "\n",
       "    .dataframe thead th {\n",
       "        text-align: right;\n",
       "    }\n",
       "</style>\n",
       "<table border=\"1\" class=\"dataframe\">\n",
       "  <thead>\n",
       "    <tr style=\"text-align: right;\">\n",
       "      <th></th>\n",
       "      <th>Unnamed: 0</th>\n",
       "      <th>PaperId</th>\n",
       "      <th>publication_id</th>\n",
       "      <th>FieldOfStudyId</th>\n",
       "      <th>NormalizedName</th>\n",
       "      <th>PaperCount</th>\n",
       "      <th>pub_date</th>\n",
       "      <th>title</th>\n",
       "      <th>Doi</th>\n",
       "      <th>pub_name</th>\n",
       "    </tr>\n",
       "  </thead>\n",
       "  <tbody>\n",
       "    <tr>\n",
       "      <th>0</th>\n",
       "      <td>0</td>\n",
       "      <td>2137918531</td>\n",
       "      <td>1064</td>\n",
       "      <td>156957248</td>\n",
       "      <td>odds ratio</td>\n",
       "      <td>170515</td>\n",
       "      <td>2006-01-01</td>\n",
       "      <td>Maternal depressive symptoms at 2 to 4 months ...</td>\n",
       "      <td>10.1001/archpedi.160.3.279</td>\n",
       "      <td>pub_1064</td>\n",
       "    </tr>\n",
       "  </tbody>\n",
       "</table>\n",
       "</div>"
      ],
      "text/plain": [
       "  Unnamed: 0     PaperId publication_id FieldOfStudyId NormalizedName  \\\n",
       "0          0  2137918531           1064      156957248     odds ratio   \n",
       "\n",
       "  PaperCount    pub_date                                              title  \\\n",
       "0     170515  2006-01-01  Maternal depressive symptoms at 2 to 4 months ...   \n",
       "\n",
       "                          Doi  pub_name  \n",
       "0  10.1001/archpedi.160.3.279  pub_1064  "
      ]
     },
     "execution_count": 615,
     "metadata": {},
     "output_type": "execute_result"
    }
   ],
   "source": [
    "all_fos.head(1)"
   ]
  },
  {
   "cell_type": "code",
   "execution_count": 616,
   "metadata": {},
   "outputs": [
    {
     "data": {
      "text/plain": [
       "605"
      ]
     },
     "execution_count": 616,
     "metadata": {},
     "output_type": "execute_result"
    }
   ],
   "source": [
    "len(set(all_fos.publication_id))"
   ]
  },
  {
   "cell_type": "code",
   "execution_count": 479,
   "metadata": {},
   "outputs": [],
   "source": [
    "fos_edges = [('pub_'+str(x),y) for x,y in zip(all_fos.publication_id, all_fos.NormalizedName)]\n",
    "\n",
    "def addFoS(g):\n",
    "    g.add_edges_from(fos_edges)\n",
    "    \n",
    "addFoS(G)"
   ]
  },
  {
   "cell_type": "markdown",
   "metadata": {},
   "source": [
    "# Export Graph"
   ]
  },
  {
   "cell_type": "code",
   "execution_count": 487,
   "metadata": {},
   "outputs": [
    {
     "name": "stdout",
     "output_type": "stream",
     "text": [
      "Start W/ Contracted Dataset\n",
      "Nodes 21099 \n",
      "Edges 6176\n",
      "Add Subject Terms\n",
      "Nodes 29815 \n",
      "Edges 137737\n",
      "Add Author\n",
      "Nodes 69170 \n",
      "Edges 185646\n",
      "Add Publication Similarity\n",
      "Nodes 69170 \n",
      "Edges 206010\n",
      "Add Field of Study\n",
      "Nodes 71041 \n",
      "Edges 211706\n"
     ]
    }
   ],
   "source": [
    "print('Start W/ Contracted Dataset')\n",
    "G_alt = startG8()\n",
    "ddST(G_alt, new_sub_edges)\n",
    "addAuth(G_alt)\n",
    "addPubSim(G_alt)\n",
    "addFoS(G_alt)\n",
    "\n",
    "# writeNX('data/network_v2.5_contract.json', G_alt)"
   ]
  },
  {
   "cell_type": "code",
   "execution_count": 488,
   "metadata": {},
   "outputs": [
    {
     "name": "stdout",
     "output_type": "stream",
     "text": [
      "Start W/ All Dataset\n",
      "Nodes 25367 \n",
      "Edges 11138\n",
      "Add Subject Terms\n",
      "Nodes 34083 \n",
      "Edges 212811\n",
      "Add Publication Similarity\n",
      "Nodes 34083 \n",
      "Edges 233175\n",
      "Add Author\n",
      "Nodes 73438 \n",
      "Edges 281084\n",
      "Add Field of Study\n",
      "Nodes 75309 \n",
      "Edges 286780\n"
     ]
    }
   ],
   "source": [
    "print('Start W/ All Dataset')\n",
    "G = startG()\n",
    "addST(G)\n",
    "addPubSim(G)\n",
    "addAuth(G)\n",
    "addFoS(G)\n",
    "\n",
    "# writeNX('data/network_v1.5_notcontract.json', G)"
   ]
  },
  {
   "cell_type": "markdown",
   "metadata": {},
   "source": [
    "#"
   ]
  },
  {
   "cell_type": "code",
   "execution_count": 618,
   "metadata": {},
   "outputs": [],
   "source": [
    "def plotDegreeDistribution(dataset_degrees, node_type = 'Dataset', ptype = 'density', figsize = (10,8), bins = 50):\n",
    "    sns.set(style=\"whitegrid\")\n",
    "    plt.figure(figsize=(10,8))\n",
    "    if ptype == 'density':\n",
    "        sns.distplot(dataset_degrees, hist = True, bins = bins)\n",
    "        plt.ylabel('Density')\n",
    "        plt.xlabel('Degree')\n",
    "\n",
    "    if ptype == 'count':\n",
    "        plt.hist(dataset_degrees, bins = bins)\n",
    "        plt.ylabel('Count')\n",
    "        plt.xlabel('Degree')\n",
    "\n",
    "    if ptype == 'box':\n",
    "        sns.boxplot(dataset_degrees, orient = 'v')\n",
    "        plt.ylabel('Degree')\n",
    "\n",
    "    plt.title('{} Nodes Degree Distribution'.format(node_type))\n",
    "    plt.show()\n",
    "    \n",
    "def neighborSearch(g, node, search='pub_'):\n",
    "    return len([i for i in g.neighbors(node) if i.startswith(search)])"
   ]
  },
  {
   "cell_type": "code",
   "execution_count": 636,
   "metadata": {},
   "outputs": [],
   "source": [
    "import numpy as np"
   ]
  },
  {
   "cell_type": "code",
   "execution_count": 637,
   "metadata": {},
   "outputs": [
    {
     "data": {
      "image/png": "[encoded data removed]",
      "text/plain": [
       "<Figure size 720x576 with 1 Axes>"
      ]
     },
     "metadata": {},
     "output_type": "display_data"
    }
   ],
   "source": [
    "dt = [G.degree(i) for i in G if str(i).startswith('data_')]\n",
    "dt = [i for i in dt if i < 200]\n",
    "\n",
    "# dt = [neighborPub(G, i, 'pub_') for i in G if str(i).startswith('data_')]\n",
    "# dt = [i for i in dt if i < 20]\n",
    "\n",
    "plotDegreeDistribution(dt, node_type = 'Dataset', ptype = 'density', figsize = (10,8), bins = 50)"
   ]
  },
  {
   "cell_type": "code",
   "execution_count": 638,
   "metadata": {},
   "outputs": [
    {
     "data": {
      "image/png": "[encoded data removed]",
      "text/plain": [
       "<Figure size 720x576 with 1 Axes>"
      ]
     },
     "metadata": {},
     "output_type": "display_data"
    }
   ],
   "source": [
    "dt = [G_alt.degree(i) for i in G_alt if str(i).startswith('data_')]\n",
    "dt = [i for i in dt if i < 200]\n",
    "\n",
    "# dt = [neighborPub(G_alt, i, 'pub_') for i in G_alt if str(i).startswith('data_')]\n",
    "# dt = [i for i in dt if i < 20]\n",
    "\n",
    "plotDegreeDistribution(dt, node_type = 'Dataset', ptype = 'density', figsize = (10,8), bins = 50)"
   ]
  },
  {
   "cell_type": "code",
   "execution_count": 486,
   "metadata": {},
   "outputs": [
    {
     "name": "stdout",
     "output_type": "stream",
     "text": [
      "Nodes 6604 \n",
      "Edges 6603\n",
      "1221\n",
      "pub_5131 ['marketing', 'interpersonal ties', 'social media']\n",
      "pub_843 ['adipose tissue', 'internal medicine', 'overweight', 'endocrinology', 'physical therapy', 'national health and nutrition examination survey', 'gerontology', 'anthropometry', 'epidemiology']\n",
      "pub_2186 ['weight perception', 'perception', 'cross sectional study', 'ethnic group', 'biostatistics', 'environmental health']\n",
      "pub_1077 ['physical exercise', 'psychiatry', 'injury prevention', 'suicide prevention', 'risk factor', 'occupational safety and health']\n",
      "pub_586 ['health equity', 'nursing', 'health education', 'patient satisfaction', 'middle eastern mental health issues syndromes', 'race and health']\n",
      "pub_4483 ['social psychology', 'dysfunctional family', 'recidivism', 'human factors and ergonomics', 'psychology']\n",
      "pub_2391 ['anxiety disorder', 'clinical psychology', 'juvenile delinquency']\n",
      "pub_555 ['major depressive disorder', 'diabetes mellitus', 'alternative medicine']\n",
      "pub_2363 ['middle aged adult', 'surrogate decision maker', 'advance care planning', 'developmental psychology', 'power of attorney', 'heterosexuality', 'young adult']\n",
      "pub_1313 ['age of onset', 'binge eating disorder', 'anorexia', 'cohort', 'binge eating', 'eating disorders']\n",
      "pub_4885 ['erectile dysfunction', 'urinary incontinence', 'prostate cancer', 'breast cancer', 'clinical trial', 'prospective cohort study', 'radiation therapy']\n",
      "pub_1382 ['earnings', 'family medicine', 'primary care physician', 'professional association', 'workforce']\n",
      "pub_2053 ['place of birth', 'multivariate analysis', 'life course approach']\n"
     ]
    }
   ],
   "source": [
    "G2 = nx.dfs_tree(G_alt, 'data_3167', 5)\n",
    "print(\"Nodes\", G2.number_of_nodes(), \"\\nEdges\", G2.number_of_edges())\n",
    "\n",
    "tmp = [i for i in G2.nodes if (str(i).startswith('pub_')) and (G2.degree(i)>0)]\n",
    "print(len(tmp))\n",
    "\n",
    "for t in tmp:\n",
    "    res = [i for i in G2.neighbors(t) if (not i.startswith('data_')) & (not i.startswith('pub_')) & (not i.startswith('auth_'))]\n",
    "    if len(res) > 0:\n",
    "        print (t,res)"
   ]
  },
  {
   "cell_type": "code",
   "execution_count": null,
   "metadata": {},
   "outputs": [],
   "source": []
  }
 ],
 "metadata": {
  "kernelspec": {
   "display_name": "Data Science (network)",
   "language": "python",
   "name": "network"
  },
  "language_info": {
   "codemirror_mode": {
    "name": "ipython",
    "version": 3
   },
   "file_extension": ".py",
   "mimetype": "text/x-python",
   "name": "python",
   "nbconvert_exporter": "python",
   "pygments_lexer": "ipython3",
   "version": "3.7.3"
  }
 },
 "nbformat": 4,
 "nbformat_minor": 2
}
