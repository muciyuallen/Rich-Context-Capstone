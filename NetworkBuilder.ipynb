{
 "cells": [
  {
   "cell_type": "markdown",
   "metadata": {},
   "source": [
    "### Network Builder\n",
    "This notebook is a step by step in building a heterogeneous graph for our dataset recommendation system. The step by step is in effort to make our graph more well connected, which will be as follows:\n",
    "1. Load train_test data\n",
    "2. Load Phase 1 & Phase 2 competition output data\n",
    "3. Combine data from step 1 & step 2\n",
    "4. Generate initial graph of `[publication, dataset]` entities\n",
    "5. Extract & Integrate `Subject Terms` Entity\n",
    "6. Load & Integrate `Author` Entity\n",
    "7. Load & Integrate Publication Similarity Edges"
   ]
  },
  {
   "cell_type": "code",
   "execution_count": 36,
   "metadata": {},
   "outputs": [],
   "source": [
    "import json \n",
    "import itertools\n",
    "import pandas as pd\n",
    "import seaborn as sns\n",
    "import networkx as nx\n",
    "from networkx.readwrite import json_graph\n",
    "\n",
    "def writeNX(filename, g):\n",
    "    network_json = json_graph.node_link_data(g)\n",
    "    json.dump(network_json, open(filename, 'w'), indent=2)\n",
    "def readNX(filename):\n",
    "    with open(filename) as f:\n",
    "        js_graph = json.load(f)\n",
    "    return json_graph.node_link_graph(js_graph)\n",
    "\n",
    "%matplotlib inline"
   ]
  },
  {
   "cell_type": "markdown",
   "metadata": {},
   "source": [
    "# 1. Load train_test data"
   ]
  },
  {
   "cell_type": "code",
   "execution_count": 2,
   "metadata": {},
   "outputs": [],
   "source": [
    "tt_pub = pd.read_json('data/train_test/publications.json')\n",
    "tt_data = pd.read_json('data/train_test/data_sets.json')\n",
    "tt_cit = pd.read_json('data/train_test/data_set_citations.json')\n",
    "tt_cit['source'] = 'train_test'"
   ]
  },
  {
   "cell_type": "code",
   "execution_count": 3,
   "metadata": {},
   "outputs": [
    {
     "name": "stdout",
     "output_type": "stream",
     "text": [
      "Ratio of publications linked 0.5\n",
      "Ratio of dataset linked 0.09934286818708929\n"
     ]
    }
   ],
   "source": [
    "print('Ratio of publications linked', tt_cit.publication_id.nunique()/tt_pub.shape[0])\n",
    "print('Ratio of dataset linked', tt_cit.data_set_id.nunique()/tt_data.shape[0])"
   ]
  },
  {
   "cell_type": "markdown",
   "metadata": {},
   "source": [
    "# 2. Load Phase 1 + Phase 2 data"
   ]
  },
  {
   "cell_type": "code",
   "execution_count": 4,
   "metadata": {},
   "outputs": [],
   "source": [
    "p1_pub = pd.read_json('data/phase1_holdout_publications.json')\n",
    "p2_pub = pd.read_json('data/phase2_holdout_publications.json')\n",
    "\n",
    "p1_cit = pd.read_json('data/competition-output/phase1-final/rcc-03/raw_results/data_set_citations.json')\n",
    "p1_cit['source'] = 'phase1'\n",
    "p2_cit = pd.read_json('data/competition-output/phase2-final/rcc-05/raw_results/holdout/output/data_set_citations.json')\n",
    "p2_cit['source'] = 'phase2'\n",
    "p2_cit_wc =  pd.read_json('data/competition-output/phase2-final/rcc-05/raw_results/wc_holdout/output/data_set_citations.json')\n",
    "p2_cit_wc['source'] = 'phase2_wc'"
   ]
  },
  {
   "cell_type": "markdown",
   "metadata": {},
   "source": [
    "# 3. Combine data from step 1 & 2"
   ]
  },
  {
   "cell_type": "code",
   "execution_count": 5,
   "metadata": {},
   "outputs": [
    {
     "name": "stdout",
     "output_type": "stream",
     "text": [
      "Publications 15001\n",
      "Datasets 10348\n",
      "Citations 12457\n",
      "\tPub-Citation 4290\n",
      "\tData-Citation 1646\n"
     ]
    }
   ],
   "source": [
    "all_pubs = pd.concat([tt_pub, p1_pub, p2_pub]).reset_index(drop=True)\n",
    "print(\"Publications\", all_pubs.shape[0])\n",
    "all_data = tt_data\n",
    "print('Datasets', all_data.shape[0])\n",
    "\n",
    "all_cit = pd.concat([tt_cit[['publication_id', 'data_set_id', 'score', 'source']], \n",
    "                     p1_cit[['publication_id', 'data_set_id', 'score', 'source']], \n",
    "                     p2_cit[['publication_id', 'data_set_id', 'score', 'source']],\n",
    "                     p2_cit_wc[['publication_id', 'data_set_id', 'score', 'source']]]).reset_index(drop=True)\n",
    "all_cit['pub_name'] = ['pub_'+str(i) for i in all_cit.publication_id] \n",
    "all_cit['data_name'] = ['data_'+str(i) for i in all_cit.data_set_id] \n",
    "\n",
    "print(\"Citations\", all_cit.shape[0])\n",
    "print(\"\\tPub-Citation\", len(set(all_cit.publication_id)))\n",
    "print(\"\\tData-Citation\", len(set(all_cit.data_set_id)))"
   ]
  },
  {
   "cell_type": "markdown",
   "metadata": {},
   "source": [
    "# 4. Generate [dataset, publication] graph"
   ]
  },
  {
   "cell_type": "code",
   "execution_count": 6,
   "metadata": {},
   "outputs": [
    {
     "name": "stdout",
     "output_type": "stream",
     "text": [
      "Nodes 25367 \n",
      "Edges 11138\n"
     ]
    }
   ],
   "source": [
    "G = nx.Graph()\n",
    "\n",
    "pub_nodes = ['pub_'+str(i) for i in all_pubs.publication_id]\n",
    "data_nodes = ['data_'+str(i) for i in all_data.data_set_id]\n",
    "G.add_nodes_from(pub_nodes+data_nodes)\n",
    "\n",
    "pub_edges = [(x,y) for x,y in zip(all_cit.pub_name, all_cit.data_name)]\n",
    "G.add_edges_from(pub_edges)\n",
    "\n",
    "print(\"Nodes\", G.number_of_nodes(), \"\\nEdges\", G.number_of_edges())"
   ]
  },
  {
   "cell_type": "markdown",
   "metadata": {},
   "source": [
    "# 5. Extract & Integrate Subject Terms"
   ]
  },
  {
   "cell_type": "code",
   "execution_count": 7,
   "metadata": {},
   "outputs": [
    {
     "name": "stdout",
     "output_type": "stream",
     "text": [
      "Nodes 34083 \n",
      "Edges 212811\n"
     ]
    }
   ],
   "source": [
    "all_sub = [i.split(',') for i in all_data.subjects]\n",
    "all_sub = set(list(itertools.chain(*all_sub)))\n",
    "G.add_nodes_from(all_sub)\n",
    "\n",
    "sub_edges = [('data_'+str(x),sub) for x,y in zip(all_data.data_set_id, all_data.subjects) for sub in y.split(',')]\n",
    "G.add_edges_from(sub_edges)\n",
    "\n",
    "print(\"Nodes\", G.number_of_nodes(), \"\\nEdges\", G.number_of_edges())"
   ]
  },
  {
   "cell_type": "code",
   "execution_count": 8,
   "metadata": {},
   "outputs": [
    {
     "data": {
      "image/png": "[encoded data removed]",
      "text/plain": [
       "<Figure size 432x288 with 1 Axes>"
      ]
     },
     "metadata": {
      "needs_background": "light"
     },
     "output_type": "display_data"
    }
   ],
   "source": [
    "tmp = pd.DataFrame([['data_'+str(x),sub] for x,y in zip(all_data.data_set_id, all_data.subjects) for sub in y.split(',')], columns = ['data_name', 'sub'])\n",
    "ax = sns.boxplot(tmp.groupby('data_name').size())\n",
    "ax = ax.set_title('Number of subject terms per dataset node')"
   ]
  },
  {
   "cell_type": "markdown",
   "metadata": {},
   "source": [
    "# 6. Load & Integrate Author"
   ]
  },
  {
   "cell_type": "code",
   "execution_count": 9,
   "metadata": {},
   "outputs": [],
   "source": [
    "all_auth = pd.read_csv('data/p1p2_PubAuthor_pairs.csv')[['publication_id', 'AuthorId']]\n",
    "all_auth = pd.concat([all_auth, pd.read_csv('data/PubAuthor_pairs.csv')[['publication_id', 'AuthorId']]]).reset_index(drop=True)\n",
    "# display(all_auth[all_auth.publication_id == 5698], all_pubs[all_pubs.publication_id==5698])"
   ]
  },
  {
   "cell_type": "code",
   "execution_count": 10,
   "metadata": {},
   "outputs": [
    {
     "name": "stdout",
     "output_type": "stream",
     "text": [
      "Nodes 73438 \n",
      "Edges 260720\n"
     ]
    }
   ],
   "source": [
    "auth_nodes = ['auth_'+str(i) for i in list(set(all_auth.AuthorId))]\n",
    "G.add_nodes_from(auth_nodes)\n",
    "\n",
    "auth_edges = [('pub_'+str(x),'auth_'+str(y)) for x,y in zip(all_auth.publication_id, all_auth.AuthorId)]\n",
    "G.add_edges_from(auth_edges)\n",
    "\n",
    "print(\"Nodes\", G.number_of_nodes(), \"\\nEdges\", G.number_of_edges())"
   ]
  },
  {
   "cell_type": "markdown",
   "metadata": {},
   "source": [
    "# 7. Load & Integrate Publication Text Similarity Edges"
   ]
  },
  {
   "cell_type": "code",
   "execution_count": 18,
   "metadata": {},
   "outputs": [],
   "source": [
    "all_sim = pd.read_csv('data/doc_sim.csv')[['Doc1', 'Doc2', 'Similarity']]"
   ]
  },
  {
   "cell_type": "code",
   "execution_count": 33,
   "metadata": {},
   "outputs": [
    {
     "name": "stdout",
     "output_type": "stream",
     "text": [
      "Nodes 73438 \n",
      "Edges 281084\n",
      "\n",
      "Ratio of newly connected publications:  0.24231717885474302\n"
     ]
    }
   ],
   "source": [
    "top_sim = all_sim[all_sim.Similarity >= 0.95]\n",
    "\n",
    "sim_edges = [(x,y) for x,y in zip(top_sim.Doc1, top_sim.Doc2)]\n",
    "G.add_edges_from(sim_edges)\n",
    "\n",
    "print(\"Nodes\", G.number_of_nodes(), \"\\nEdges\", G.number_of_edges())\n",
    "print(\"\\nRatio of newly connected publications: \", len(set(top_sim.Doc1.append(top_sim.Doc2)))/all_pubs.shape[0])\n"
   ]
  },
  {
   "cell_type": "markdown",
   "metadata": {},
   "source": [
    "# `Export Graph`"
   ]
  },
  {
   "cell_type": "code",
   "execution_count": 37,
   "metadata": {},
   "outputs": [],
   "source": [
    "writeNX('data/network_v2.0.json', G)"
   ]
  },
  {
   "cell_type": "code",
   "execution_count": null,
   "metadata": {},
   "outputs": [],
   "source": []
  }
 ],
 "metadata": {
  "kernelspec": {
   "display_name": "Data Science (network)",
   "language": "python",
   "name": "network"
  },
  "language_info": {
   "codemirror_mode": {
    "name": "ipython",
    "version": 3
   },
   "file_extension": ".py",
   "mimetype": "text/x-python",
   "name": "python",
   "nbconvert_exporter": "python",
   "pygments_lexer": "ipython3",
   "version": "3.7.3"
  }
 },
 "nbformat": 4,
 "nbformat_minor": 2
}
