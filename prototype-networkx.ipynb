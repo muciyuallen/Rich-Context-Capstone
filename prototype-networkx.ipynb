{
 "cells": [
  {
   "cell_type": "code",
   "execution_count": 4,
   "metadata": {},
   "outputs": [],
   "source": [
    "import networkx as nx\n",
    "import pandas as pd"
   ]
  },
  {
   "cell_type": "code",
   "execution_count": 5,
   "metadata": {},
   "outputs": [],
   "source": [
    "dirname = 'data/competition-output/phase2-final/rcc-03/raw_results/holdout/output/'\n",
    "filename = 'data_set_citations.json'"
   ]
  },
  {
   "cell_type": "code",
   "execution_count": 6,
   "metadata": {},
   "outputs": [
    {
     "data": {
      "text/html": [
       "<div>\n",
       "<style scoped>\n",
       "    .dataframe tbody tr th:only-of-type {\n",
       "        vertical-align: middle;\n",
       "    }\n",
       "\n",
       "    .dataframe tbody tr th {\n",
       "        vertical-align: top;\n",
       "    }\n",
       "\n",
       "    .dataframe thead th {\n",
       "        text-align: right;\n",
       "    }\n",
       "</style>\n",
       "<table border=\"1\" class=\"dataframe\">\n",
       "  <thead>\n",
       "    <tr style=\"text-align: right;\">\n",
       "      <th></th>\n",
       "      <th>data_set_id</th>\n",
       "      <th>publication_id</th>\n",
       "      <th>score</th>\n",
       "    </tr>\n",
       "  </thead>\n",
       "  <tbody>\n",
       "    <tr>\n",
       "      <th>0</th>\n",
       "      <td>data_305</td>\n",
       "      <td>pub_103</td>\n",
       "      <td>0.264053</td>\n",
       "    </tr>\n",
       "    <tr>\n",
       "      <th>1</th>\n",
       "      <td>data_306</td>\n",
       "      <td>pub_103</td>\n",
       "      <td>0.429020</td>\n",
       "    </tr>\n",
       "    <tr>\n",
       "      <th>2</th>\n",
       "      <td>data_320</td>\n",
       "      <td>pub_103</td>\n",
       "      <td>0.374938</td>\n",
       "    </tr>\n",
       "    <tr>\n",
       "      <th>3</th>\n",
       "      <td>data_306</td>\n",
       "      <td>pub_104</td>\n",
       "      <td>0.293487</td>\n",
       "    </tr>\n",
       "    <tr>\n",
       "      <th>4</th>\n",
       "      <td>data_306</td>\n",
       "      <td>pub_106</td>\n",
       "      <td>0.343932</td>\n",
       "    </tr>\n",
       "  </tbody>\n",
       "</table>\n",
       "</div>"
      ],
      "text/plain": [
       "  data_set_id publication_id     score\n",
       "0    data_305        pub_103  0.264053\n",
       "1    data_306        pub_103  0.429020\n",
       "2    data_320        pub_103  0.374938\n",
       "3    data_306        pub_104  0.293487\n",
       "4    data_306        pub_106  0.343932"
      ]
     },
     "execution_count": 6,
     "metadata": {},
     "output_type": "execute_result"
    }
   ],
   "source": [
    "df = pd.read_json(dirname+filename)\n",
    "df['data_set_id'] = ['data_'+str(i) for i in df['data_set_id']]\n",
    "df['publication_id'] = ['pub_'+str(i) for i in df['publication_id']]\n",
    "df = df.drop('mention_list', axis=1)\n",
    "df.head()"
   ]
  },
  {
   "cell_type": "code",
   "execution_count": 7,
   "metadata": {},
   "outputs": [],
   "source": [
    "G = nx.Graph()\n",
    "G.add_weighted_edges_from(df.values.tolist())"
   ]
  },
  {
   "cell_type": "code",
   "execution_count": 13,
   "metadata": {},
   "outputs": [],
   "source": [
    "dirname = 'data/competition-output/phase2-final/rcc-03/raw_results/holdout/output/'\n",
    "filename = 'research_fields.json'"
   ]
  },
  {
   "cell_type": "code",
   "execution_count": 14,
   "metadata": {},
   "outputs": [
    {
     "data": {
      "text/html": [
       "<div>\n",
       "<style scoped>\n",
       "    .dataframe tbody tr th:only-of-type {\n",
       "        vertical-align: middle;\n",
       "    }\n",
       "\n",
       "    .dataframe tbody tr th {\n",
       "        vertical-align: top;\n",
       "    }\n",
       "\n",
       "    .dataframe thead th {\n",
       "        text-align: right;\n",
       "    }\n",
       "</style>\n",
       "<table border=\"1\" class=\"dataframe\">\n",
       "  <thead>\n",
       "    <tr style=\"text-align: right;\">\n",
       "      <th></th>\n",
       "      <th>publication_id</th>\n",
       "      <th>research_field</th>\n",
       "      <th>score</th>\n",
       "    </tr>\n",
       "  </thead>\n",
       "  <tbody>\n",
       "    <tr>\n",
       "      <th>0</th>\n",
       "      <td>pub_102</td>\n",
       "      <td>business:finance</td>\n",
       "      <td>0.96</td>\n",
       "    </tr>\n",
       "    <tr>\n",
       "      <th>1</th>\n",
       "      <td>pub_103</td>\n",
       "      <td>economics:finance</td>\n",
       "      <td>0.82</td>\n",
       "    </tr>\n",
       "    <tr>\n",
       "      <th>2</th>\n",
       "      <td>pub_104</td>\n",
       "      <td>economics:finance</td>\n",
       "      <td>0.97</td>\n",
       "    </tr>\n",
       "    <tr>\n",
       "      <th>3</th>\n",
       "      <td>pub_106</td>\n",
       "      <td>economics:finance</td>\n",
       "      <td>0.97</td>\n",
       "    </tr>\n",
       "    <tr>\n",
       "      <th>4</th>\n",
       "      <td>pub_107</td>\n",
       "      <td>business:finance</td>\n",
       "      <td>0.91</td>\n",
       "    </tr>\n",
       "    <tr>\n",
       "      <th>5</th>\n",
       "      <td>pub_108</td>\n",
       "      <td>business:finance</td>\n",
       "      <td>0.76</td>\n",
       "    </tr>\n",
       "    <tr>\n",
       "      <th>6</th>\n",
       "      <td>pub_112</td>\n",
       "      <td>business:finance</td>\n",
       "      <td>0.79</td>\n",
       "    </tr>\n",
       "    <tr>\n",
       "      <th>7</th>\n",
       "      <td>pub_113</td>\n",
       "      <td>economics:finance</td>\n",
       "      <td>0.81</td>\n",
       "    </tr>\n",
       "    <tr>\n",
       "      <th>8</th>\n",
       "      <td>pub_114</td>\n",
       "      <td>sociology:finance</td>\n",
       "      <td>0.74</td>\n",
       "    </tr>\n",
       "    <tr>\n",
       "      <th>9</th>\n",
       "      <td>pub_117</td>\n",
       "      <td>economics:finance</td>\n",
       "      <td>0.77</td>\n",
       "    </tr>\n",
       "    <tr>\n",
       "      <th>10</th>\n",
       "      <td>pub_118</td>\n",
       "      <td>business:finance</td>\n",
       "      <td>0.98</td>\n",
       "    </tr>\n",
       "    <tr>\n",
       "      <th>11</th>\n",
       "      <td>pub_120</td>\n",
       "      <td>economics:finance</td>\n",
       "      <td>0.91</td>\n",
       "    </tr>\n",
       "    <tr>\n",
       "      <th>12</th>\n",
       "      <td>pub_121</td>\n",
       "      <td>business:finance</td>\n",
       "      <td>0.89</td>\n",
       "    </tr>\n",
       "    <tr>\n",
       "      <th>13</th>\n",
       "      <td>pub_126</td>\n",
       "      <td>economics:finance</td>\n",
       "      <td>0.77</td>\n",
       "    </tr>\n",
       "    <tr>\n",
       "      <th>14</th>\n",
       "      <td>pub_128</td>\n",
       "      <td>economics:finance</td>\n",
       "      <td>0.93</td>\n",
       "    </tr>\n",
       "  </tbody>\n",
       "</table>\n",
       "</div>"
      ],
      "text/plain": [
       "   publication_id     research_field  score\n",
       "0         pub_102   business:finance   0.96\n",
       "1         pub_103  economics:finance   0.82\n",
       "2         pub_104  economics:finance   0.97\n",
       "3         pub_106  economics:finance   0.97\n",
       "4         pub_107   business:finance   0.91\n",
       "5         pub_108   business:finance   0.76\n",
       "6         pub_112   business:finance   0.79\n",
       "7         pub_113  economics:finance   0.81\n",
       "8         pub_114  sociology:finance   0.74\n",
       "9         pub_117  economics:finance   0.77\n",
       "10        pub_118   business:finance   0.98\n",
       "11        pub_120  economics:finance   0.91\n",
       "12        pub_121   business:finance   0.89\n",
       "13        pub_126  economics:finance   0.77\n",
       "14        pub_128  economics:finance   0.93"
      ]
     },
     "execution_count": 14,
     "metadata": {},
     "output_type": "execute_result"
    }
   ],
   "source": [
    "df_rf = pd.read_json(dirname+filename)\n",
    "# df_rf['data_set_id'] = ['data_'+str(i) for i in df_rf['data_set_id']]\n",
    "df_rf['publication_id'] = ['pub_'+str(i) for i in df_rf['publication_id']]\n",
    "# df_rf = df_rf.drop('mention_list', axis=1)\n",
    "df_rf.head(15)"
   ]
  },
  {
   "cell_type": "code",
   "execution_count": 15,
   "metadata": {},
   "outputs": [
    {
     "data": {
      "text/plain": [
       "{'business',\n",
       " 'business:criminology',\n",
       " 'business:education',\n",
       " 'business:finance',\n",
       " 'business:healthcare',\n",
       " 'business:welfare',\n",
       " 'economics',\n",
       " 'economics:agriculture',\n",
       " 'economics:criminology',\n",
       " 'economics:education',\n",
       " 'economics:finance',\n",
       " 'economics:healthcare',\n",
       " 'economics:welfare',\n",
       " 'medicine:criminology',\n",
       " 'medicine:education',\n",
       " 'medicine:finance',\n",
       " 'medicine:healthcare',\n",
       " 'sociology',\n",
       " 'sociology:agriculture',\n",
       " 'sociology:criminology',\n",
       " 'sociology:education',\n",
       " 'sociology:finance',\n",
       " 'sociology:healthcare',\n",
       " 'sociology:welfare'}"
      ]
     },
     "execution_count": 15,
     "metadata": {},
     "output_type": "execute_result"
    }
   ],
   "source": [
    "set(df_rf.research_field)"
   ]
  },
  {
   "cell_type": "code",
   "execution_count": 20,
   "metadata": {},
   "outputs": [
    {
     "data": {
      "text/plain": [
       "3"
      ]
     },
     "execution_count": 20,
     "metadata": {},
     "output_type": "execute_result"
    }
   ],
   "source": [
    "from networkx.algorithms.connectivity import local_node_connectivity\n",
    "\n",
    "## examples if it's cut off. \n",
    "local_node_connectivity(G, 'data_306', 'pub_103')"
   ]
  },
  {
   "cell_type": "code",
   "execution_count": null,
   "metadata": {},
   "outputs": [],
   "source": []
  }
 ],
 "metadata": {
  "kernelspec": {
   "display_name": "Data Science (Network)",
   "language": "python",
   "name": "ds_network"
  },
  "language_info": {
   "codemirror_mode": {
    "name": "ipython",
    "version": 3
   },
   "file_extension": ".py",
   "mimetype": "text/x-python",
   "name": "python",
   "nbconvert_exporter": "python",
   "pygments_lexer": "ipython3",
   "version": "3.7.3"
  }
 },
 "nbformat": 4,
 "nbformat_minor": 2
}
